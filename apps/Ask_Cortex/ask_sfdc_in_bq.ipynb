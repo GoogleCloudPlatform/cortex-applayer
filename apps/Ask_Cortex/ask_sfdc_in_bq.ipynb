{
  "cells": [
    {
      "cell_type": "code",
      "execution_count": 1,
      "metadata": {
        "id": "Uli6OEvwV-1p"
      },
      "outputs": [],
      "source": [
        "# Copyright 2024 Google LLC\n",
        "#\n",
        "# Licensed under the Apache License, Version 2.0 (the \"License\");\n",
        "# you may not use this file except in compliance with the License.\n",
        "# You may obtain a copy of the License at\n",
        "#\n",
        "#     https://www.apache.org/licenses/LICENSE-2.0\n",
        "#\n",
        "# Unless required by applicable law or agreed to in writing, software\n",
        "# distributed under the License is distributed on an \"AS IS\" BASIS,\n",
        "# WITHOUT WARRANTIES OR CONDITIONS OF ANY KIND, either express or implied.\n",
        "# See the License for the specific language governing permissions and\n",
        "# limitations under the License."
      ]
    },
    {
      "cell_type": "markdown",
      "metadata": {
        "id": "vCxAnIuVn6vs"
      },
      "source": [
        "# Ask Salesforce in BigQuery\n",
        "\n",
        "<table align=\"left\">\n",
        "  <td style=\"text-align: center\">\n",
        "    <a href=\"https://colab.research.google.com/github/GoogleCloudPlatform/cortex-applayer/blob/main/apps/Ask_Cortex/ask_sfdc_in_bq.ipynb\">\n",
        "      <img src=\"https://cloud.google.com/ml-engine/images/colab-logo-32px.png\" alt=\"Google Colaboratory logo\"><br> Open in Colab\n",
        "    </a>\n",
        "  </td>\n",
        "  <td style=\"text-align: center\">\n",
        "    <a href=\"https://console.cloud.google.com/vertex-ai/colab/import/https:%2F%2Fraw.githubusercontent.com%2FGoogleCloudPlatform%2Fcortex-applayer%2Fmain%2Fapps%2FAsk_Cortex%2Fask_sfdc_in_bq.ipynb\">\n",
        "      <img width=\"32px\" src=\"https://lh3.googleusercontent.com/JmcxdQi-qOpctIvWKgPtrzZdJJK-J3sWE1RsfjZNwshCFgE_9fULcNpuXYTilIR2hjwN\" alt=\"Google Cloud Colab Enterprise logo\"><br> Open in Colab Enterprise\n",
        "    </a>\n",
        "  </td>    \n",
        "  <td style=\"text-align: center\">\n",
        "    <a href=\"https://console.cloud.google.com/vertex-ai/workbench/deploy-notebook?download_url=https://raw.githubusercontent.com/GoogleCloudPlatform/cortex-applayer/blob/main/apps/Ask_Cortex/ask_sfdc_in_bq.ipynb\">\n",
        "      <img src=\"https://lh3.googleusercontent.com/UiNooY4LUgW_oTvpsNhPpQzsstV5W8F7rYgxgGBD85cWJoLmrOzhVs_ksK_vgx40SHs7jCqkTkCk=e14-rj-sc0xffffff-h130-w32\" alt=\"Vertex AI logo\"><br> Open in Workbench\n",
        "    </a>\n",
        "  </td>\n",
        "  <td style=\"text-align: center\">\n",
        "    <a href=\"https://github.com/GoogleCloudPlatform/cortex-applayer/blob/main/apps/Ask_Cortex/ask_sfdc_in_bq.ipynb\">\n",
        "      <img src=\"https://cloud.google.com/ml-engine/images/github-logo-32px.png\" alt=\"GitHub logo\"><br> View on GitHub\n",
        "    </a>\n",
        "  </td>\n",
        "</table>"
      ]
    },
    {
      "cell_type": "markdown",
      "metadata": {
        "id": "TFSR4FULV-1s"
      },
      "source": [
        "| | |\n",
        "|-|-|\n",
        "|Author(s) | [Vlad Kolesnikov](https://github.com/vladkol) |"
      ]
    },
    {
      "cell_type": "markdown",
      "metadata": {
        "id": "9zEvIP7_n6vt"
      },
      "source": [
        "## Overview\n",
        "\n",
        "In this tutorial, you will learn how to use Gemini's [Long Context Learning](https://ai.google.dev/gemini-api/docs/long-context)\n",
        "for converting natural language questions to SQL queries for\n",
        "[Salesforce Sales Cloud](https://www.salesforce.com/sales/cloud/) data in [Google Cloud BigQuery](https://cloud.google.com/bigquery).\n",
        "\n",
        "Having 2M token context allow Gemini 1.5 Pro to learn from an entire database schema and its metadata. The schema is generated using a real Salesforce.com instance and its data replicated to a BigQuery dataset.\n",
        "\n",
        "To run this tutorial, you need a Gemini API key and access to BigQuery:\n",
        "\n",
        "* Get a Gemini API key [here](https://aistudio.google.com/app/apikey).\n",
        "* For BigQuery, use **Project ID** of your [Google Cloud project](https://console.cloud.google.com/iam-admin/settings) or [BigQuery Sandbox](https://cloud.google.com/bigquery/docs/sandbox).\n"
      ]
    },
    {
      "cell_type": "markdown",
      "metadata": {
        "id": "moGnFgx0n6vu"
      },
      "source": [
        "## Configuration"
      ]
    },
    {
      "cell_type": "markdown",
      "metadata": {
        "id": "cyEzO1YFn6vu"
      },
      "source": [
        "### Gemini API Key and Model Name\n",
        "\n",
        "Get a Gemini API key [here](https://aistudio.google.com/app/apikey)."
      ]
    },
    {
      "cell_type": "code",
      "execution_count": 2,
      "metadata": {
        "cellView": "form",
        "id": "kAxWWtI2n6vu"
      },
      "outputs": [],
      "source": [
        "# { display-mode: \"form\" }\n",
        "GEMINI_API_KEY = \"\" # @param {type:\"string\"}\n",
        "GEMINI_MODEL = \"gemini-1.5-pro-001\" # This notebook is optimized for Gemini 1.5 Pro\n",
        "GEMINI_UTIL_MODEL = \"gemini-1.5-flash-001\""
      ]
    },
    {
      "cell_type": "markdown",
      "metadata": {
        "id": "h9rzpnwon6vv"
      },
      "source": [
        "### BigQuery Project\n",
        "\n",
        "Use **Project ID** of your [Google Cloud project](https://console.cloud.google.com/iam-admin/settings) or [BigQuery Sandbox](https://cloud.google.com/bigquery/docs/sandbox)."
      ]
    },
    {
      "cell_type": "code",
      "execution_count": 3,
      "metadata": {
        "cellView": "form",
        "id": "jJ2jBPOln6vv"
      },
      "outputs": [],
      "source": [
        "# { display-mode: \"form\" }\n",
        "\n",
        "BIGQUERY_PROJECT_ID = \"\"  # @param {type:\"string\"}"
      ]
    },
    {
      "cell_type": "markdown",
      "metadata": {
        "id": "CwTjqTKIn6vv"
      },
      "source": [
        "### Install Dependencies"
      ]
    },
    {
      "cell_type": "code",
      "execution_count": 4,
      "metadata": {
        "colab": {
          "base_uri": "https://localhost:8080/"
        },
        "id": "TO2hzUBzYI9g",
        "outputId": "ff0cb91b-13b9-443c-bff4-840165b410ce"
      },
      "outputs": [
        {
          "name": "stdout",
          "output_type": "stream",
          "text": [
            "Python dependencies have been installed.\n"
          ]
        }
      ],
      "source": [
        "%pip install -U google-cloud-bigquery[pandas] google-generativeai altair 1>/dev/null && echo \"Python dependencies have been installed.\"\n",
        "\n",
        "try:\n",
        "  import requests\n",
        "except ModuleNotFoundError:\n",
        "  %pip install -U requests"
      ]
    },
    {
      "cell_type": "markdown",
      "metadata": {
        "id": "U79ekKRGn6vv"
      },
      "source": [
        "## Initialize Models"
      ]
    },
    {
      "cell_type": "markdown",
      "metadata": {
        "id": "F9uIU5Een6vv"
      },
      "source": [
        "### Model Configuration"
      ]
    },
    {
      "cell_type": "code",
      "execution_count": 5,
      "metadata": {
        "id": "rOCQ9CQrn6vv"
      },
      "outputs": [],
      "source": [
        "import google.generativeai as genai\n",
        "from google.generativeai.types import HarmCategory, HarmBlockThreshold\n",
        "\n",
        "if not GEMINI_API_KEY:\n",
        "    print(\"GEMINI_API_KEY should not be empty. Gen an API key here: https://aistudio.google.com/app/apikey\")\n",
        "    assert False\n",
        "\n",
        "genai.configure(api_key=GEMINI_API_KEY)\n",
        "\n",
        "generation_config = {\n",
        "    \"temperature\": 0,\n",
        "    \"top_p\": 0.95,\n",
        "    \"top_k\": 4,\n",
        "    \"max_output_tokens\": 8192,\n",
        "    \"response_mime_type\": \"text/plain\",\n",
        "}\n",
        "safety_settings = {\n",
        "    HarmCategory.HARM_CATEGORY_DANGEROUS_CONTENT: HarmBlockThreshold.BLOCK_ONLY_HIGH\n",
        "}"
      ]
    },
    {
      "cell_type": "markdown",
      "metadata": {
        "id": "zGroXur4n6vv"
      },
      "source": [
        "### System Instructions\n",
        "\n",
        "System Instructions establish the model's role, SQL generation rules, and full dataset schema including Salesforce.com metadata for repective tables and columns.\n",
        "\n",
        "The dataset schema enhanced with the metadata contains decriptions of every table and column, dimension values, relationships, and other details.\n",
        "\n",
        "Here is a part of the schema for `opportunities` table:\n",
        "\n",
        "```json\n",
        "{\n",
        "\"opportunities\": {\n",
        "    \"table_name\": \"opportunities\",\n",
        "    \"table_description\": \"Opportunities\",\n",
        "    \"source_salesforce_object\": \"Opportunity\",\n",
        "    \"columns\": {\n",
        "      \"Id\": {\n",
        "        \"name\": \"Id\",\n",
        "        \"type\": \"STRING\",\n",
        "        \"description\": \"[IN SALESFORCE]: Id of Opportunity\\nCannot be NULL\\n\"\n",
        "      },\n",
        "      \"AccountId\": {\n",
        "        \"name\": \"AccountId\",\n",
        "        \"type\": \"STRING\",\n",
        "        \"mode\": \"NULLABLE\",\n",
        "        \"description\": \"[IN SALESFORCE]: Account ID\\nCan be NULL\\n\\nRefers to table(s) with following Salesforce object(s): Account\"\n",
        "      },\n",
        "      \"RecordTypeId\": {\n",
        "        \"name\": \"RecordTypeId\",\n",
        "        \"type\": \"STRING\",\n",
        "        \"mode\": \"NULLABLE\",\n",
        "        \"description\": \"[IN SALESFORCE]: Record Type ID\\nCan be NULL\\n\\nRefers to table(s) with following Salesforce object(s): RecordType\"\n",
        "      },\n",
        "      \"Name\": {\n",
        "        \"name\": \"Name\",\n",
        "        \"type\": \"STRING\",\n",
        "        \"description\": \"[IN SALESFORCE]: Name of Opportunity\\nCannot be NULL\\n\"\n",
        "      },\n",
        "      \"Description\": {\n",
        "        \"name\": \"Description\",\n",
        "        \"type\": \"STRING\",\n",
        "        \"mode\": \"NULLABLE\",\n",
        "        \"description\": \"[IN SALESFORCE]: Description of Opportunity\\nCan be NULL\\n\"\n",
        "      },\n",
        "      \"StageName\": {\n",
        "        \"name\": \"StageName\",\n",
        "        \"type\": \"STRING\",\n",
        "        \"mode\": \"NULLABLE\",\n",
        "        \"description\": \"[IN SALESFORCE]: Stage\\nCannot be NULL\\n\\nPossible values: \\n* `Prospecting` (Prospecting)\\n* `Qualification` (Qualification)\\n* `Needs Analysis` (Needs Analysis)\\n* `Value Proposition` (Value Proposition)\\n* `Id. Decision Makers` (Id. Decision Makers)\\n* `Perception Analysis` (Perception Analysis)\\n* `Proposal/Price Quote` (Proposal/Price Quote)\\n* `Negotiation/Review` (Negotiation/Review)\\n* `Closed Won` (Closed Won)\\n* `Closed Lost` (Closed Lost)\\n* `Actual Target` (Actual Target)\\n\\n\"\n",
        "      }\n",
        "   }\n",
        "}\n",
        "```"
      ]
    },
    {
      "cell_type": "code",
      "execution_count": 6,
      "metadata": {
        "id": "oT9OAX29n6vv"
      },
      "outputs": [],
      "source": [
        "from pathlib import Path\n",
        "import requests\n",
        "from IPython.display import display, Code, Markdown\n",
        "\n",
        "sfdc_metadata_local = Path(\"sfdc_metadata.json\")\n",
        "if sfdc_metadata_local.exists():\n",
        "  sfdc_cortex_schema = sfdc_metadata_local.read_text()\n",
        "else:\n",
        "  sfdc_cortex_schema = requests.get(\n",
        "      \"https://storage.googleapis.com/cortex-public-documents/gemini/sfdc-bq-schema_07-2024.json\").text\n",
        "  sfdc_metadata_local.write_text(sfdc_cortex_schema)\n",
        "sfdc_cortex_schema = sfdc_cortex_schema.replace(\"[IN SALESFORCE]: \", \"\")\n",
        "\n",
        "system_instructions = f\"\"\"\n",
        "You are an experienced Data Engineer working with data warehouses in Google Cloud BigQuery.\n",
        "You write correct, clean and performant BigQuery SQL.\n",
        "You used to work as Salesforce Sales Cloud consultant and developer.\n",
        "You have an MBA degree, and experience running a business.\n",
        "\n",
        "You will be asked different questions. If a question can be answered using CRM data in Salesforce Sales Cloud, use the following approach.\n",
        "\n",
        "First, generate a step-by-step algorithm for answering the question. It's an important stage.\n",
        "ALGORITHM RULES:\n",
        "        - If mentioning any metrics, scores or criteria, DEFINE THEM YOURSELF, including formulas or rules to calculate.\n",
        "        - If any thresholds or value intervals are mentioned, DEFINE them YOURSELF with specific values.\n",
        "        - When defining something, be very specific.\n",
        "        - The algorithm will be later used to generate SQL queries and dashboards.\n",
        "        - Do not include specific field names to your answer.\n",
        "        - Do not generate code or SQL.\n",
        "        - Do not tell what fields to select or by what field to filter.\n",
        "        - Follow instructions in the question.\n",
        "        - DO NOT REFER TO SPECIFIC TABLES OR FIELDS.\n",
        "\n",
        "Evaluate whether the algorithm can be executed using Salesforce Sales Cloud data. Adjust it as necessary. Show the final algorithm.\n",
        "\n",
        "Next step is to convert the algorithm to BigQuery SQL query.\n",
        "You Salesforce Sales Cloud data is available as tables in a BigQuery dataset.\n",
        "Generate a BigQuery SQL query that implements the algorithm.\n",
        "Use ONLY tables and fields from the table specifications below (goes after `[TABLES_FIELDS]`).\n",
        "Your BigQuery project is `kittycorn-public`.\n",
        "Your BigQuery dataset is `sfdc__raw__6_0__us`.\n",
        "\n",
        "SQL Generation rules:\n",
        "\n",
        "- Table and field names are case-sensitive.\n",
        "- Exclude tables and fields that are not relevant to the algorithm (except names or descriptions).\n",
        "- Pay special attention to date dimensions.\n",
        "- When using constants in WHERE statements with fields that have \"Possible Values\" in the description, perform comparison against all relevant values using `IN` rather than `=` (equal).\n",
        "- Do not impose filters (WHERE statements) or JOIN predicates that are not required.\n",
        "- For Geographical dimensions, if you need to filter on them (AND ONLY IF YOU NEED!):\n",
        "  - For countries ALWAYS check using multiple forms, including ISO code.\n",
        "      Example: for `United States`, instead of writing `Country='US'`, write `Country IN ('US', 'USA', 'United States')`.\n",
        "  - For states and provinces ALWAYS check using multiple forms people may use it in.\n",
        "      Example: Instead of writing `State='Florida'`, write `State IN ('FL', 'Florida')`.\n",
        "      Example: Instead of writing `State='TX'`, write `State IN ('TX', 'Texas')`.\n",
        "  - When multiple states are supposed to be checked, use all forms of all states.\n",
        "      Example: Instead of writing `State IN ('TX', 'FL')`, write `State IN ('TX', 'Texas', 'FL', 'Florida')`.\n",
        "  - Do not make geographical names up.\n",
        "  - Only filter by fields that are necessary for implementing the algorithm.\n",
        "- Make the query as simple as possible, but implementing the algorithm.\n",
        "- Pay attention to what kind of join you use.\n",
        "- IMPORTANT: Make sure you include IDs and Names of entities required by the algorithm.\n",
        "- Unique Id field may have name `Id` or `{{Entity}}Id`  where `{{Entity}}` is a singular name of entity type this table stores.\n",
        "    For example, a table that stores Opportunities may have unique Id field with name `OpportunityId`.\n",
        "- Each used table must have a random alias. Each field must be specified with a table alias.\n",
        "- All table references should be fully-qualified with project and dataset.\n",
        "- Any constants you need - make sure they exist in BigQuery or defined in the query you generate.\n",
        "\n",
        "The results will be visualized in a dashboard for a human.\n",
        "You have Salesforce data in BigQuery.\n",
        "Do not put restrictions, filters or limits that are not defined in the algorithm or the original question.\n",
        "\n",
        "If you need metrics and/or dimensions and/or calculations that\n",
        "cannot be done with the data in tables above, adjust the algorithm to have them excluded,\n",
        "but try to come up with alternative steps in the SQL. NO PLACEHOLDERS, only executable SQL code.\n",
        "\n",
        "Your output must be a valid BigQuery SQL query. Do not use anything that will not run in BigQuery's GoogleSQL.\n",
        "\n",
        "Once you generated SQL code, evaluate the query on following all SQL Generation rules.\n",
        "Pay special attention to using proper columns with proper tables.\n",
        "\n",
        "If you cannot answer the question with Salesforce data in BigQuery or if running SQL is not enough to implement the algorithm, let the user know what's missing.\n",
        "\n",
        "Otherwise, finish your answer with a final correct BigQuery SQL.\n",
        "\n",
        "[TABLES_FIELDS]\n",
        "{sfdc_cortex_schema}\n",
        "\"\"\""
      ]
    },
    {
      "cell_type": "markdown",
      "metadata": {
        "id": "-PcYmoUtn6vw"
      },
      "source": [
        "### Initialize Models and a Chat\n",
        "\n",
        "This tutorial's prompts are optimized Gemini 1.5 Pro (`gemini-1.5-pro-001`)."
      ]
    },
    {
      "cell_type": "code",
      "execution_count": 7,
      "metadata": {
        "id": "3dmZe5kfW6qZ"
      },
      "outputs": [],
      "source": [
        "model = genai.GenerativeModel(\n",
        "    model_name=GEMINI_MODEL,\n",
        "    generation_config=generation_config,\n",
        "    safety_settings=safety_settings,\n",
        "    system_instruction=system_instructions)\n",
        "chat_session = model.start_chat()\n",
        "\n",
        "# Additional model to perform utility operations.\n",
        "model_util = genai.GenerativeModel(\n",
        "    model_name=GEMINI_UTIL_MODEL,\n",
        "    generation_config=generation_config,\n",
        "    safety_settings=safety_settings,\n",
        "    system_instruction=\"\"\"\n",
        "     - You are an experienced Data Engineer working with data warehouses in Google Cloud BigQuery.\n",
        "     - You write correct, clean and performant BigQuery SQL.\n",
        "     - You carefully follow instructions on output format.\n",
        "     \"\"\")"
      ]
    },
    {
      "cell_type": "markdown",
      "metadata": {
        "id": "ddIiLazgV_o4"
      },
      "source": [
        "## Generate Entity Relationship Diagram\n",
        "\n",
        "First, let's ask Gemini to generate an Entity Relationship Diagram straight from the dataset schema."
      ]
    },
    {
      "cell_type": "code",
      "execution_count": 8,
      "metadata": {
        "id": "3sgHDQ0uV_o4"
      },
      "outputs": [],
      "source": [
        "erd_code = model.generate_content(f\"\"\"Generate our database ERD in Mermaid format in Markdown.\n",
        "                                  Choose the best layout given the schema and the diagram content.\n",
        "                                  Preserve correct names.\n",
        "\n",
        "                                  [TABLES_FIELDS]\n",
        "                                  {sfdc_cortex_schema}\n",
        "                                  \"\"\").text\n",
        "erd_code = erd_code.split(\"```mermaid\", 1)[-1].rsplit(\"```\", 1)[0].strip()"
      ]
    },
    {
      "cell_type": "markdown",
      "metadata": {
        "id": "RSmFZqnwtpph"
      },
      "source": [
        "### Vizualize the diagram"
      ]
    },
    {
      "cell_type": "code",
      "execution_count": 20,
      "metadata": {
        "colab": {
          "base_uri": "https://localhost:8080/",
          "height": 501
        },
        "id": "uemOVCcgp9Uh",
        "outputId": "791428c7-6ecc-46bf-c9d2-473a15e4eaab"
      },
      "outputs": [
        {
          "data": {
            "text/markdown": [
              "[![](https://mermaid.ink/svg/pako:eNqNlM9uhCAQxl_FcN59AW_9c2lS06Q99OJlAqOSKrOBoc3G3XcvlmZ1o6LcgB8z3zfA9EKSQpELtM8aagtdabIwQEryhl12uRyP1I_zPCtFAY7RvqMkq15UKZaPSHAY-Ye4k0DJMEjeSeM3mr0snU5k2RvNeq8YBve1E_UO7Qp6szSrxlPcWUcn_j4bWufm3jZDj96SkUdfs4gtgtpUeget5LxXv8DCJGsUtPQW334M2hVwrHmSmj6-FDhxm8Ki-S1qfnkpeqxLippcm0VgVI_nTfI1_OWClK70LrwAA3UUIA6iQ9uBVqF99MOpUnCDHZZiIBVW4Fse4l0DCp7p42ykyNl6PAhLvm5EXkHrwsyfVND734Fuq6g0ky1ig_rrU9dfVvmOug?type=png)](https://mermaid.live/edit#pako:eNqNlM9uhCAQxl_FcN59AW_9c2lS06Q99OJlAqOSKrOBoc3G3XcvlmZ1o6LcgB8z3zfA9EKSQpELtM8aagtdabIwQEryhl12uRyP1I_zPCtFAY7RvqMkq15UKZaPSHAY-Ye4k0DJMEjeSeM3mr0snU5k2RvNeq8YBve1E_UO7Qp6szSrxlPcWUcn_j4bWufm3jZDj96SkUdfs4gtgtpUeget5LxXv8DCJGsUtPQW334M2hVwrHmSmj6-FDhxm8Ki-S1qfnkpeqxLippcm0VgVI_nTfI1_OWClK70LrwAA3UUIA6iQ9uBVqF99MOpUnCDHZZiIBVW4Fse4l0DCp7p42ykyNl6PAhLvm5EXkHrwsyfVND734Fuq6g0ky1ig_rrU9dfVvmOug)"
            ],
            "text/plain": [
              "<IPython.core.display.Markdown object>"
            ]
          },
          "metadata": {},
          "output_type": "display_data"
        }
      ],
      "source": [
        "import sys\n",
        "\n",
        "if \"google.colab\" in sys.modules:\n",
        "  from IPython.display import HTML\n",
        "\n",
        "  mermaid_html = f\"\"\"\n",
        "  <!DOCTYPE html>\n",
        "  <html lang=\"en\">\n",
        "    <head>\n",
        "    <script src=\"https://cdn.jsdelivr.net/npm/mermaid/dist/mermaid.min.js\"></script>\n",
        "    </head>\n",
        "  <body>\n",
        "  <pre>\n",
        "    <code class=\"language-mermaid\">\n",
        "    {erd_code}\n",
        "    </code>\n",
        "  </pre>\n",
        "  </body>\n",
        "  <script>\n",
        "  var config = {{\n",
        "      startOnLoad:true,\n",
        "      theme: 'forest',\n",
        "      er:{{\n",
        "              useMaxWidth:true,\n",
        "              htmlLabels:true,\n",
        "              entityPadding:12\n",
        "          }}\n",
        "  }};\n",
        "  mermaid.initialize(config);\n",
        "  window.mermaid.init(undefined, document.querySelectorAll('.language-mermaid'));\n",
        "  </script>\n",
        "  </html>\n",
        "  \"\"\"\n",
        "  display(HTML(mermaid_html))\n",
        "else:\n",
        "  display(Markdown(f\"```mermaid\\n{erd_code}\\n```\"))"
      ]
    },
    {
      "cell_type": "markdown",
      "metadata": {
        "id": "8l4P1a1Kn6vw"
      },
      "source": [
        "## Question\n",
        "\n",
        "Now, let's go through the flow of generating BigQuery SQL code that answer a natural language query."
      ]
    },
    {
      "cell_type": "code",
      "execution_count": 10,
      "metadata": {
        "cellView": "form",
        "id": "9EWbFMxbY2C4"
      },
      "outputs": [],
      "source": [
        "# { display-mode: \"form\" }\n",
        "QUESTION = \"Top 5 customers in every country.\" # @param {type:\"string\"}"
      ]
    },
    {
      "cell_type": "markdown",
      "metadata": {
        "id": "LizL3fHDn6vw"
      },
      "source": [
        "### Rephrase the Question"
      ]
    },
    {
      "cell_type": "code",
      "execution_count": 11,
      "metadata": {
        "colab": {
          "base_uri": "https://localhost:8080/",
          "height": 90
        },
        "id": "4yQ0Rw3Vn6vw",
        "outputId": "4bc6ccea-3fca-43ac-f455-526b572e77be"
      },
      "outputs": [
        {
          "data": {
            "text/markdown": [
              "## Rephrased Question\n",
              "\n",
              "What are the names and IDs of the 5 Accounts with the highest number of associated Opportunities in each Billing Country? \n"
            ],
            "text/plain": [
              "<IPython.core.display.Markdown object>"
            ]
          },
          "metadata": {},
          "output_type": "display_data"
        }
      ],
      "source": [
        "rephrased_question = model.generate_content(f\"\"\"\n",
        "    Rephrase the following question using the following rules:\n",
        "    1. If you need to define a KPI, criteria, etc., try to do it yourself - don't leave placeholders.\n",
        "    2. When rephrasing, keep in mind that to get the answer, your the question will be converted to BigQuery SQL.\n",
        "    3. Your output is the rephrased question only in plain text.\n",
        "    Question:\n",
        "    ```\n",
        "    {QUESTION}\n",
        "    ```\n",
        "\"\"\").text\n",
        "display(Markdown(f\"## Rephrased Question\\n\\n{rephrased_question}\"))"
      ]
    },
    {
      "cell_type": "markdown",
      "metadata": {
        "id": "mNTDOPAXn6vw"
      },
      "source": [
        "## Generate SQL"
      ]
    },
    {
      "cell_type": "code",
      "execution_count": 12,
      "metadata": {
        "colab": {
          "base_uri": "https://localhost:8080/",
          "height": 665
        },
        "id": "6gm2XDIQYwHD",
        "outputId": "d3d5c2ce-aea3-45ce-f527-ddd49fb87f42"
      },
      "outputs": [
        {
          "data": {
            "text/markdown": [
              "### SQL\n",
              "\n",
              "```sql\n",
              "WITH AccountOpportunityCount AS (\n",
              "    SELECT\n",
              "        a.BillingCountry,\n",
              "        a.Id AS AccountId,\n",
              "        a.Name AS AccountName,\n",
              "        COUNT(o.Id) AS OpportunityCount\n",
              "    FROM\n",
              "        `kittycorn-public.sfdc__raw__5_3__us.accounts` AS a\n",
              "    LEFT JOIN\n",
              "        `kittycorn-public.sfdc__raw__5_3__us.opportunities` AS o ON a.Id = o.AccountId\n",
              "    GROUP BY\n",
              "        a.BillingCountry, a.Id, a.Name\n",
              "),\n",
              "RankedAccountOpportunityCount AS (\n",
              "    SELECT\n",
              "        BillingCountry,\n",
              "        AccountId,\n",
              "        AccountName,\n",
              "        OpportunityCount,\n",
              "        ROW_NUMBER() OVER (PARTITION BY BillingCountry ORDER BY OpportunityCount DESC) AS Rank\n",
              "    FROM\n",
              "        AccountOpportunityCount\n",
              ")\n",
              "SELECT\n",
              "    BillingCountry,\n",
              "    AccountId,\n",
              "    AccountName,\n",
              "    OpportunityCount\n",
              "FROM\n",
              "    RankedAccountOpportunityCount\n",
              "WHERE\n",
              "    Rank <= 5\n",
              "ORDER BY\n",
              "    BillingCountry,\n",
              "    OpportunityCount DESC;\n",
              "```\n"
            ],
            "text/plain": [
              "<IPython.core.display.Markdown object>"
            ]
          },
          "metadata": {},
          "output_type": "display_data"
        }
      ],
      "source": [
        "result_text = chat_session.send_message(rephrased_question).text\n",
        "display(Markdown(f\"### SQL\\n\\n{result_text}\"))"
      ]
    },
    {
      "cell_type": "markdown",
      "metadata": {
        "id": "8rLuHxRUV-1w"
      },
      "source": [
        "### Extract SQL Code"
      ]
    },
    {
      "cell_type": "code",
      "execution_count": 13,
      "metadata": {
        "id": "LJErWDpbV-1w"
      },
      "outputs": [],
      "source": [
        "def extract_sql(markdown: str) -> str:\n",
        "    if \"```sql\" in markdown:\n",
        "        query = markdown.split(\"```sql\", 1)[-1].rsplit(\"```\", 1)[0].strip()\n",
        "    elif \"```googlesql\" in markdown:\n",
        "        query = markdown.split(\"```googlesql\", 1)[-1].rsplit(\"```\", 1)[0].strip()\n",
        "    elif \"```bigquery\" in markdown:\n",
        "        query = markdown.split(\"```bigquery\", 1)[-1].rsplit(\"```\", 1)[0].strip()\n",
        "    else:\n",
        "        query = markdown\n",
        "    return query\n",
        "\n",
        "query = extract_sql(result_text)"
      ]
    },
    {
      "cell_type": "markdown",
      "metadata": {
        "id": "qY22hF5aV-1w"
      },
      "source": [
        "### Initialize BigQuery client"
      ]
    },
    {
      "cell_type": "code",
      "execution_count": 14,
      "metadata": {
        "id": "D1v3IYrVV-1w"
      },
      "outputs": [],
      "source": [
        "import sys\n",
        "from google.cloud import bigquery\n",
        "\n",
        "if not BIGQUERY_PROJECT_ID:\n",
        "    print(\"BIGQUERY_PROJECT should not be empty. Please specify a Google Cloud Project Id.\")\n",
        "    assert False\n",
        "\n",
        "if \"google.colab\" in sys.modules:\n",
        "    from google.colab import auth\n",
        "    auth.authenticate_user(project_id=BIGQUERY_PROJECT_ID)\n",
        "\n",
        "bq_client = bigquery.Client(project=BIGQUERY_PROJECT_ID, location=\"US\")"
      ]
    },
    {
      "cell_type": "markdown",
      "metadata": {
        "id": "06Bsc5u7V-1x"
      },
      "source": [
        "### Validate and correct SQL\n",
        "\n",
        "Now, we validate generated SQL code by performing a [query dry run](https://cloud.google.com/bigquery/docs/samples/bigquery-query-dry-run) in BigQuery.\n",
        "Dry run allows us to validate the query and find errors without fully running it over our data.\n",
        "\n",
        "If any error occurs during a dry run, we ask Gemini to correct the error by making respective changes in SQL code."
      ]
    },
    {
      "cell_type": "code",
      "execution_count": 15,
      "metadata": {
        "colab": {
          "base_uri": "https://localhost:8080/",
          "height": 630
        },
        "id": "7mmdIqHtV-1x",
        "outputId": "7466cf3d-0f7f-4180-c877-164dc01805a9"
      },
      "outputs": [
        {
          "data": {
            "text/html": [
              "<style>pre { line-height: 125%; }\n",
              "td.linenos .normal { color: inherit; background-color: transparent; padding-left: 5px; padding-right: 5px; }\n",
              "span.linenos { color: inherit; background-color: transparent; padding-left: 5px; padding-right: 5px; }\n",
              "td.linenos .special { color: #000000; background-color: #ffffc0; padding-left: 5px; padding-right: 5px; }\n",
              "span.linenos.special { color: #000000; background-color: #ffffc0; padding-left: 5px; padding-right: 5px; }\n",
              ".output_html .hll { background-color: #ffffcc }\n",
              ".output_html { background: #f8f8f8; }\n",
              ".output_html .c { color: #3D7B7B; font-style: italic } /* Comment */\n",
              ".output_html .err { border: 1px solid #FF0000 } /* Error */\n",
              ".output_html .k { color: #008000; font-weight: bold } /* Keyword */\n",
              ".output_html .o { color: #666666 } /* Operator */\n",
              ".output_html .ch { color: #3D7B7B; font-style: italic } /* Comment.Hashbang */\n",
              ".output_html .cm { color: #3D7B7B; font-style: italic } /* Comment.Multiline */\n",
              ".output_html .cp { color: #9C6500 } /* Comment.Preproc */\n",
              ".output_html .cpf { color: #3D7B7B; font-style: italic } /* Comment.PreprocFile */\n",
              ".output_html .c1 { color: #3D7B7B; font-style: italic } /* Comment.Single */\n",
              ".output_html .cs { color: #3D7B7B; font-style: italic } /* Comment.Special */\n",
              ".output_html .gd { color: #A00000 } /* Generic.Deleted */\n",
              ".output_html .ge { font-style: italic } /* Generic.Emph */\n",
              ".output_html .ges { font-weight: bold; font-style: italic } /* Generic.EmphStrong */\n",
              ".output_html .gr { color: #E40000 } /* Generic.Error */\n",
              ".output_html .gh { color: #000080; font-weight: bold } /* Generic.Heading */\n",
              ".output_html .gi { color: #008400 } /* Generic.Inserted */\n",
              ".output_html .go { color: #717171 } /* Generic.Output */\n",
              ".output_html .gp { color: #000080; font-weight: bold } /* Generic.Prompt */\n",
              ".output_html .gs { font-weight: bold } /* Generic.Strong */\n",
              ".output_html .gu { color: #800080; font-weight: bold } /* Generic.Subheading */\n",
              ".output_html .gt { color: #0044DD } /* Generic.Traceback */\n",
              ".output_html .kc { color: #008000; font-weight: bold } /* Keyword.Constant */\n",
              ".output_html .kd { color: #008000; font-weight: bold } /* Keyword.Declaration */\n",
              ".output_html .kn { color: #008000; font-weight: bold } /* Keyword.Namespace */\n",
              ".output_html .kp { color: #008000 } /* Keyword.Pseudo */\n",
              ".output_html .kr { color: #008000; font-weight: bold } /* Keyword.Reserved */\n",
              ".output_html .kt { color: #B00040 } /* Keyword.Type */\n",
              ".output_html .m { color: #666666 } /* Literal.Number */\n",
              ".output_html .s { color: #BA2121 } /* Literal.String */\n",
              ".output_html .na { color: #687822 } /* Name.Attribute */\n",
              ".output_html .nb { color: #008000 } /* Name.Builtin */\n",
              ".output_html .nc { color: #0000FF; font-weight: bold } /* Name.Class */\n",
              ".output_html .no { color: #880000 } /* Name.Constant */\n",
              ".output_html .nd { color: #AA22FF } /* Name.Decorator */\n",
              ".output_html .ni { color: #717171; font-weight: bold } /* Name.Entity */\n",
              ".output_html .ne { color: #CB3F38; font-weight: bold } /* Name.Exception */\n",
              ".output_html .nf { color: #0000FF } /* Name.Function */\n",
              ".output_html .nl { color: #767600 } /* Name.Label */\n",
              ".output_html .nn { color: #0000FF; font-weight: bold } /* Name.Namespace */\n",
              ".output_html .nt { color: #008000; font-weight: bold } /* Name.Tag */\n",
              ".output_html .nv { color: #19177C } /* Name.Variable */\n",
              ".output_html .ow { color: #AA22FF; font-weight: bold } /* Operator.Word */\n",
              ".output_html .w { color: #bbbbbb } /* Text.Whitespace */\n",
              ".output_html .mb { color: #666666 } /* Literal.Number.Bin */\n",
              ".output_html .mf { color: #666666 } /* Literal.Number.Float */\n",
              ".output_html .mh { color: #666666 } /* Literal.Number.Hex */\n",
              ".output_html .mi { color: #666666 } /* Literal.Number.Integer */\n",
              ".output_html .mo { color: #666666 } /* Literal.Number.Oct */\n",
              ".output_html .sa { color: #BA2121 } /* Literal.String.Affix */\n",
              ".output_html .sb { color: #BA2121 } /* Literal.String.Backtick */\n",
              ".output_html .sc { color: #BA2121 } /* Literal.String.Char */\n",
              ".output_html .dl { color: #BA2121 } /* Literal.String.Delimiter */\n",
              ".output_html .sd { color: #BA2121; font-style: italic } /* Literal.String.Doc */\n",
              ".output_html .s2 { color: #BA2121 } /* Literal.String.Double */\n",
              ".output_html .se { color: #AA5D1F; font-weight: bold } /* Literal.String.Escape */\n",
              ".output_html .sh { color: #BA2121 } /* Literal.String.Heredoc */\n",
              ".output_html .si { color: #A45A77; font-weight: bold } /* Literal.String.Interpol */\n",
              ".output_html .sx { color: #008000 } /* Literal.String.Other */\n",
              ".output_html .sr { color: #A45A77 } /* Literal.String.Regex */\n",
              ".output_html .s1 { color: #BA2121 } /* Literal.String.Single */\n",
              ".output_html .ss { color: #19177C } /* Literal.String.Symbol */\n",
              ".output_html .bp { color: #008000 } /* Name.Builtin.Pseudo */\n",
              ".output_html .fm { color: #0000FF } /* Name.Function.Magic */\n",
              ".output_html .vc { color: #19177C } /* Name.Variable.Class */\n",
              ".output_html .vg { color: #19177C } /* Name.Variable.Global */\n",
              ".output_html .vi { color: #19177C } /* Name.Variable.Instance */\n",
              ".output_html .vm { color: #19177C } /* Name.Variable.Magic */\n",
              ".output_html .il { color: #666666 } /* Literal.Number.Integer.Long */</style><div class=\"highlight\"><pre><span></span><span class=\"k\">WITH</span><span class=\"w\"> </span><span class=\"n\">AccountOpportunityCount</span><span class=\"w\"> </span><span class=\"k\">AS</span><span class=\"w\"> </span><span class=\"p\">(</span>\n",
              "<span class=\"w\">    </span><span class=\"k\">SELECT</span>\n",
              "<span class=\"w\">        </span><span class=\"n\">a</span><span class=\"p\">.</span><span class=\"n\">BillingCountry</span><span class=\"p\">,</span>\n",
              "<span class=\"w\">        </span><span class=\"n\">a</span><span class=\"p\">.</span><span class=\"n\">Id</span><span class=\"w\"> </span><span class=\"k\">AS</span><span class=\"w\"> </span><span class=\"n\">AccountId</span><span class=\"p\">,</span>\n",
              "<span class=\"w\">        </span><span class=\"n\">a</span><span class=\"p\">.</span><span class=\"n\">Name</span><span class=\"w\"> </span><span class=\"k\">AS</span><span class=\"w\"> </span><span class=\"n\">AccountName</span><span class=\"p\">,</span>\n",
              "<span class=\"w\">        </span><span class=\"k\">COUNT</span><span class=\"p\">(</span><span class=\"n\">o</span><span class=\"p\">.</span><span class=\"n\">Id</span><span class=\"p\">)</span><span class=\"w\"> </span><span class=\"k\">AS</span><span class=\"w\"> </span><span class=\"n\">OpportunityCount</span>\n",
              "<span class=\"w\">    </span><span class=\"k\">FROM</span>\n",
              "<span class=\"w\">        </span><span class=\"o\">`</span><span class=\"n\">kittycorn</span><span class=\"o\">-</span><span class=\"k\">public</span><span class=\"p\">.</span><span class=\"n\">sfdc__raw__5_3__us</span><span class=\"p\">.</span><span class=\"n\">accounts</span><span class=\"o\">`</span><span class=\"w\"> </span><span class=\"k\">AS</span><span class=\"w\"> </span><span class=\"n\">a</span>\n",
              "<span class=\"w\">    </span><span class=\"k\">LEFT</span><span class=\"w\"> </span><span class=\"k\">JOIN</span>\n",
              "<span class=\"w\">        </span><span class=\"o\">`</span><span class=\"n\">kittycorn</span><span class=\"o\">-</span><span class=\"k\">public</span><span class=\"p\">.</span><span class=\"n\">sfdc__raw__5_3__us</span><span class=\"p\">.</span><span class=\"n\">opportunities</span><span class=\"o\">`</span><span class=\"w\"> </span><span class=\"k\">AS</span><span class=\"w\"> </span><span class=\"n\">o</span><span class=\"w\"> </span><span class=\"k\">ON</span><span class=\"w\"> </span><span class=\"n\">a</span><span class=\"p\">.</span><span class=\"n\">Id</span><span class=\"w\"> </span><span class=\"o\">=</span><span class=\"w\"> </span><span class=\"n\">o</span><span class=\"p\">.</span><span class=\"n\">AccountId</span>\n",
              "<span class=\"w\">    </span><span class=\"k\">GROUP</span><span class=\"w\"> </span><span class=\"k\">BY</span>\n",
              "<span class=\"w\">        </span><span class=\"n\">a</span><span class=\"p\">.</span><span class=\"n\">BillingCountry</span><span class=\"p\">,</span><span class=\"w\"> </span><span class=\"n\">a</span><span class=\"p\">.</span><span class=\"n\">Id</span><span class=\"p\">,</span><span class=\"w\"> </span><span class=\"n\">a</span><span class=\"p\">.</span><span class=\"n\">Name</span>\n",
              "<span class=\"p\">),</span>\n",
              "<span class=\"n\">RankedAccountOpportunityCount</span><span class=\"w\"> </span><span class=\"k\">AS</span><span class=\"w\"> </span><span class=\"p\">(</span>\n",
              "<span class=\"w\">    </span><span class=\"k\">SELECT</span>\n",
              "<span class=\"w\">        </span><span class=\"n\">BillingCountry</span><span class=\"p\">,</span>\n",
              "<span class=\"w\">        </span><span class=\"n\">AccountId</span><span class=\"p\">,</span>\n",
              "<span class=\"w\">        </span><span class=\"n\">AccountName</span><span class=\"p\">,</span>\n",
              "<span class=\"w\">        </span><span class=\"n\">OpportunityCount</span><span class=\"p\">,</span>\n",
              "<span class=\"w\">        </span><span class=\"n\">ROW_NUMBER</span><span class=\"p\">()</span><span class=\"w\"> </span><span class=\"n\">OVER</span><span class=\"w\"> </span><span class=\"p\">(</span><span class=\"n\">PARTITION</span><span class=\"w\"> </span><span class=\"k\">BY</span><span class=\"w\"> </span><span class=\"n\">BillingCountry</span><span class=\"w\"> </span><span class=\"k\">ORDER</span><span class=\"w\"> </span><span class=\"k\">BY</span><span class=\"w\"> </span><span class=\"n\">OpportunityCount</span><span class=\"w\"> </span><span class=\"k\">DESC</span><span class=\"p\">)</span><span class=\"w\"> </span><span class=\"k\">AS</span><span class=\"w\"> </span><span class=\"n\">Rank</span>\n",
              "<span class=\"w\">    </span><span class=\"k\">FROM</span>\n",
              "<span class=\"w\">        </span><span class=\"n\">AccountOpportunityCount</span>\n",
              "<span class=\"p\">)</span>\n",
              "<span class=\"k\">SELECT</span>\n",
              "<span class=\"w\">    </span><span class=\"n\">BillingCountry</span><span class=\"p\">,</span>\n",
              "<span class=\"w\">    </span><span class=\"n\">AccountId</span><span class=\"p\">,</span>\n",
              "<span class=\"w\">    </span><span class=\"n\">AccountName</span><span class=\"p\">,</span>\n",
              "<span class=\"w\">    </span><span class=\"n\">OpportunityCount</span>\n",
              "<span class=\"k\">FROM</span>\n",
              "<span class=\"w\">    </span><span class=\"n\">RankedAccountOpportunityCount</span>\n",
              "<span class=\"k\">WHERE</span>\n",
              "<span class=\"w\">    </span><span class=\"n\">Rank</span><span class=\"w\"> </span><span class=\"o\">&lt;=</span><span class=\"w\"> </span><span class=\"mi\">5</span>\n",
              "<span class=\"k\">ORDER</span><span class=\"w\"> </span><span class=\"k\">BY</span>\n",
              "<span class=\"w\">    </span><span class=\"n\">BillingCountry</span><span class=\"p\">,</span>\n",
              "<span class=\"w\">    </span><span class=\"n\">OpportunityCount</span><span class=\"w\"> </span><span class=\"k\">DESC</span><span class=\"p\">;</span>\n",
              "</pre></div>\n"
            ],
            "text/latex": [
              "\\begin{Verbatim}[commandchars=\\\\\\{\\}]\n",
              "\\PY{k}{WITH}\\PY{+w}{ }\\PY{n}{AccountOpportunityCount}\\PY{+w}{ }\\PY{k}{AS}\\PY{+w}{ }\\PY{p}{(}\n",
              "\\PY{+w}{    }\\PY{k}{SELECT}\n",
              "\\PY{+w}{        }\\PY{n}{a}\\PY{p}{.}\\PY{n}{BillingCountry}\\PY{p}{,}\n",
              "\\PY{+w}{        }\\PY{n}{a}\\PY{p}{.}\\PY{n}{Id}\\PY{+w}{ }\\PY{k}{AS}\\PY{+w}{ }\\PY{n}{AccountId}\\PY{p}{,}\n",
              "\\PY{+w}{        }\\PY{n}{a}\\PY{p}{.}\\PY{n}{Name}\\PY{+w}{ }\\PY{k}{AS}\\PY{+w}{ }\\PY{n}{AccountName}\\PY{p}{,}\n",
              "\\PY{+w}{        }\\PY{k}{COUNT}\\PY{p}{(}\\PY{n}{o}\\PY{p}{.}\\PY{n}{Id}\\PY{p}{)}\\PY{+w}{ }\\PY{k}{AS}\\PY{+w}{ }\\PY{n}{OpportunityCount}\n",
              "\\PY{+w}{    }\\PY{k}{FROM}\n",
              "\\PY{+w}{        }\\PY{o}{`}\\PY{n}{kittycorn}\\PY{o}{\\PYZhy{}}\\PY{k}{public}\\PY{p}{.}\\PY{n}{sfdc\\PYZus{}\\PYZus{}raw\\PYZus{}\\PYZus{}5\\PYZus{}3\\PYZus{}\\PYZus{}us}\\PY{p}{.}\\PY{n}{accounts}\\PY{o}{`}\\PY{+w}{ }\\PY{k}{AS}\\PY{+w}{ }\\PY{n}{a}\n",
              "\\PY{+w}{    }\\PY{k}{LEFT}\\PY{+w}{ }\\PY{k}{JOIN}\n",
              "\\PY{+w}{        }\\PY{o}{`}\\PY{n}{kittycorn}\\PY{o}{\\PYZhy{}}\\PY{k}{public}\\PY{p}{.}\\PY{n}{sfdc\\PYZus{}\\PYZus{}raw\\PYZus{}\\PYZus{}5\\PYZus{}3\\PYZus{}\\PYZus{}us}\\PY{p}{.}\\PY{n}{opportunities}\\PY{o}{`}\\PY{+w}{ }\\PY{k}{AS}\\PY{+w}{ }\\PY{n}{o}\\PY{+w}{ }\\PY{k}{ON}\\PY{+w}{ }\\PY{n}{a}\\PY{p}{.}\\PY{n}{Id}\\PY{+w}{ }\\PY{o}{=}\\PY{+w}{ }\\PY{n}{o}\\PY{p}{.}\\PY{n}{AccountId}\n",
              "\\PY{+w}{    }\\PY{k}{GROUP}\\PY{+w}{ }\\PY{k}{BY}\n",
              "\\PY{+w}{        }\\PY{n}{a}\\PY{p}{.}\\PY{n}{BillingCountry}\\PY{p}{,}\\PY{+w}{ }\\PY{n}{a}\\PY{p}{.}\\PY{n}{Id}\\PY{p}{,}\\PY{+w}{ }\\PY{n}{a}\\PY{p}{.}\\PY{n}{Name}\n",
              "\\PY{p}{)}\\PY{p}{,}\n",
              "\\PY{n}{RankedAccountOpportunityCount}\\PY{+w}{ }\\PY{k}{AS}\\PY{+w}{ }\\PY{p}{(}\n",
              "\\PY{+w}{    }\\PY{k}{SELECT}\n",
              "\\PY{+w}{        }\\PY{n}{BillingCountry}\\PY{p}{,}\n",
              "\\PY{+w}{        }\\PY{n}{AccountId}\\PY{p}{,}\n",
              "\\PY{+w}{        }\\PY{n}{AccountName}\\PY{p}{,}\n",
              "\\PY{+w}{        }\\PY{n}{OpportunityCount}\\PY{p}{,}\n",
              "\\PY{+w}{        }\\PY{n}{ROW\\PYZus{}NUMBER}\\PY{p}{(}\\PY{p}{)}\\PY{+w}{ }\\PY{n}{OVER}\\PY{+w}{ }\\PY{p}{(}\\PY{n}{PARTITION}\\PY{+w}{ }\\PY{k}{BY}\\PY{+w}{ }\\PY{n}{BillingCountry}\\PY{+w}{ }\\PY{k}{ORDER}\\PY{+w}{ }\\PY{k}{BY}\\PY{+w}{ }\\PY{n}{OpportunityCount}\\PY{+w}{ }\\PY{k}{DESC}\\PY{p}{)}\\PY{+w}{ }\\PY{k}{AS}\\PY{+w}{ }\\PY{n}{Rank}\n",
              "\\PY{+w}{    }\\PY{k}{FROM}\n",
              "\\PY{+w}{        }\\PY{n}{AccountOpportunityCount}\n",
              "\\PY{p}{)}\n",
              "\\PY{k}{SELECT}\n",
              "\\PY{+w}{    }\\PY{n}{BillingCountry}\\PY{p}{,}\n",
              "\\PY{+w}{    }\\PY{n}{AccountId}\\PY{p}{,}\n",
              "\\PY{+w}{    }\\PY{n}{AccountName}\\PY{p}{,}\n",
              "\\PY{+w}{    }\\PY{n}{OpportunityCount}\n",
              "\\PY{k}{FROM}\n",
              "\\PY{+w}{    }\\PY{n}{RankedAccountOpportunityCount}\n",
              "\\PY{k}{WHERE}\n",
              "\\PY{+w}{    }\\PY{n}{Rank}\\PY{+w}{ }\\PY{o}{\\PYZlt{}}\\PY{o}{=}\\PY{+w}{ }\\PY{l+m+mi}{5}\n",
              "\\PY{k}{ORDER}\\PY{+w}{ }\\PY{k}{BY}\n",
              "\\PY{+w}{    }\\PY{n}{BillingCountry}\\PY{p}{,}\n",
              "\\PY{+w}{    }\\PY{n}{OpportunityCount}\\PY{+w}{ }\\PY{k}{DESC}\\PY{p}{;}\n",
              "\\end{Verbatim}\n"
            ],
            "text/plain": [
              "WITH AccountOpportunityCount AS (\n",
              "    SELECT\n",
              "        a.BillingCountry,\n",
              "        a.Id AS AccountId,\n",
              "        a.Name AS AccountName,\n",
              "        COUNT(o.Id) AS OpportunityCount\n",
              "    FROM\n",
              "        `kittycorn-public.sfdc__raw__5_3__us.accounts` AS a\n",
              "    LEFT JOIN\n",
              "        `kittycorn-public.sfdc__raw__5_3__us.opportunities` AS o ON a.Id = o.AccountId\n",
              "    GROUP BY\n",
              "        a.BillingCountry, a.Id, a.Name\n",
              "),\n",
              "RankedAccountOpportunityCount AS (\n",
              "    SELECT\n",
              "        BillingCountry,\n",
              "        AccountId,\n",
              "        AccountName,\n",
              "        OpportunityCount,\n",
              "        ROW_NUMBER() OVER (PARTITION BY BillingCountry ORDER BY OpportunityCount DESC) AS Rank\n",
              "    FROM\n",
              "        AccountOpportunityCount\n",
              ")\n",
              "SELECT\n",
              "    BillingCountry,\n",
              "    AccountId,\n",
              "    AccountName,\n",
              "    OpportunityCount\n",
              "FROM\n",
              "    RankedAccountOpportunityCount\n",
              "WHERE\n",
              "    Rank <= 5\n",
              "ORDER BY\n",
              "    BillingCountry,\n",
              "    OpportunityCount DESC;"
            ]
          },
          "metadata": {},
          "output_type": "display_data"
        }
      ],
      "source": [
        "from google.cloud.exceptions import BadRequest, NotFound\n",
        "\n",
        "MAX_FIX_ATTEMPTS = 32\n",
        "validating_query = query\n",
        "is_good = False\n",
        "\n",
        "job_config = bigquery.QueryJobConfig(dry_run=True, use_query_cache=False)\n",
        "corr_results = []\n",
        "\n",
        "for __ in range(MAX_FIX_ATTEMPTS):\n",
        "    try:\n",
        "      _ = bq_client.query(validating_query, job_config=job_config).result()\n",
        "      is_good = True\n",
        "      query = validating_query\n",
        "      break\n",
        "    except (BadRequest, NotFound) as ex:\n",
        "      err_text = ex.args[0].strip()\n",
        "      display(Markdown(f\"\\n\\n**Invalid SQL query. Trying to fix it.**\\n\\nError: {err_text}\\n\\n\"))\n",
        "\n",
        "      correcting_prompt = f\"\"\"```sql\n",
        "        {validating_query}\n",
        "        ```\n",
        "\n",
        "      ERROR: {err_text}\n",
        "      \"\"\"\n",
        "      corr_result = chat_session.send_message(correcting_prompt).text.strip()\n",
        "      if corr_result in corr_results:\n",
        "         not_again_prompt = \"\"\"\n",
        "          You already suggested this change. It didn't work.\n",
        "          Try something else. Use the schema.\"\"\"\n",
        "         corr_result = chat_session.send_message(not_again_prompt).text.strip()\n",
        "      else:\n",
        "         validating_query = extract_sql(corr_result)\n",
        "      corr_results.append(corr_result)\n",
        "\n",
        "if not is_good:\n",
        "  display(Markdown(f\"Couldn't generate a valid BigQuery SQL query.\"))\n",
        "  display(Code(validating_query, language=\"sql\"))\n",
        "  assert False\n",
        "else:\n",
        "   display(Code(query, language=\"sql\"))"
      ]
    },
    {
      "cell_type": "markdown",
      "metadata": {
        "id": "0BwWgRunn6vw"
      },
      "source": [
        "## Execute SQL in BigQuery"
      ]
    },
    {
      "cell_type": "code",
      "execution_count": 16,
      "metadata": {
        "colab": {
          "base_uri": "https://localhost:8080/",
          "height": 300
        },
        "id": "zZIp6lmXaOky",
        "outputId": "df7df735-4dbb-49c6-dd2a-70e9259de19e"
      },
      "outputs": [
        {
          "data": {
            "application/vnd.google.colaboratory.intrinsic+json": {
              "summary": "{\n  \"name\": \"results_df\",\n  \"rows\": 8,\n  \"fields\": [\n    {\n      \"column\": \"BillingCountry\",\n      \"properties\": {\n        \"dtype\": \"category\",\n        \"num_unique_values\": 3,\n        \"samples\": [\n          \"\",\n          \"France\",\n          \"USA\"\n        ],\n        \"semantic_type\": \"\",\n        \"description\": \"\"\n      }\n    },\n    {\n      \"column\": \"AccountId\",\n      \"properties\": {\n        \"dtype\": \"string\",\n        \"num_unique_values\": 8,\n        \"samples\": [\n          \"0018a0000260eJzAAI\",\n          \"0018a00001uyzi1AAA\",\n          \"0018a000022jPn9AAE\"\n        ],\n        \"semantic_type\": \"\",\n        \"description\": \"\"\n      }\n    },\n    {\n      \"column\": \"AccountName\",\n      \"properties\": {\n        \"dtype\": \"string\",\n        \"num_unique_values\": 8,\n        \"samples\": [\n          \"Account for Laptop\",\n          \"Burlington Textiles Corp of America\",\n          \"Kittycorn LLC\"\n        ],\n        \"semantic_type\": \"\",\n        \"description\": \"\"\n      }\n    },\n    {\n      \"column\": \"OpportunityCount\",\n      \"properties\": {\n        \"dtype\": \"Int64\",\n        \"num_unique_values\": 7,\n        \"samples\": [\n          1,\n          2576,\n          2326\n        ],\n        \"semantic_type\": \"\",\n        \"description\": \"\"\n      }\n    }\n  ]\n}",
              "type": "dataframe",
              "variable_name": "results_df"
            },
            "text/html": [
              "\n",
              "  <div id=\"df-a6c17044-3478-47b7-af3e-d32b29f25f9e\" class=\"colab-df-container\">\n",
              "    <div>\n",
              "<style scoped>\n",
              "    .dataframe tbody tr th:only-of-type {\n",
              "        vertical-align: middle;\n",
              "    }\n",
              "\n",
              "    .dataframe tbody tr th {\n",
              "        vertical-align: top;\n",
              "    }\n",
              "\n",
              "    .dataframe thead th {\n",
              "        text-align: right;\n",
              "    }\n",
              "</style>\n",
              "<table border=\"1\" class=\"dataframe\">\n",
              "  <thead>\n",
              "    <tr style=\"text-align: right;\">\n",
              "      <th></th>\n",
              "      <th>BillingCountry</th>\n",
              "      <th>AccountId</th>\n",
              "      <th>AccountName</th>\n",
              "      <th>OpportunityCount</th>\n",
              "    </tr>\n",
              "  </thead>\n",
              "  <tbody>\n",
              "    <tr>\n",
              "      <th>0</th>\n",
              "      <td></td>\n",
              "      <td>0018a000022jPn9AAE</td>\n",
              "      <td>Kittycorn LLC</td>\n",
              "      <td>1</td>\n",
              "    </tr>\n",
              "    <tr>\n",
              "      <th>1</th>\n",
              "      <td></td>\n",
              "      <td>0018a0000260eJzAAI</td>\n",
              "      <td>Account for Laptop</td>\n",
              "      <td>1</td>\n",
              "    </tr>\n",
              "    <tr>\n",
              "      <th>2</th>\n",
              "      <td>France</td>\n",
              "      <td>0018a00001uyzi2AAA</td>\n",
              "      <td>Pyramid Construction Inc.</td>\n",
              "      <td>2576</td>\n",
              "    </tr>\n",
              "    <tr>\n",
              "      <th>3</th>\n",
              "      <td>USA</td>\n",
              "      <td>0018a00001uyzi0AAA</td>\n",
              "      <td>Edge Communications</td>\n",
              "      <td>3424</td>\n",
              "    </tr>\n",
              "    <tr>\n",
              "      <th>4</th>\n",
              "      <td>USA</td>\n",
              "      <td>0018a00001uyzhxAAA</td>\n",
              "      <td>GenePoint</td>\n",
              "      <td>3081</td>\n",
              "    </tr>\n",
              "    <tr>\n",
              "      <th>5</th>\n",
              "      <td>USA</td>\n",
              "      <td>0018a00001uyzi1AAA</td>\n",
              "      <td>Burlington Textiles Corp of America</td>\n",
              "      <td>2348</td>\n",
              "    </tr>\n",
              "    <tr>\n",
              "      <th>6</th>\n",
              "      <td>USA</td>\n",
              "      <td>0018a00001uyzhwAAA</td>\n",
              "      <td>sForce</td>\n",
              "      <td>2326</td>\n",
              "    </tr>\n",
              "    <tr>\n",
              "      <th>7</th>\n",
              "      <td>USA</td>\n",
              "      <td>0018a00001uyzhuAAA</td>\n",
              "      <td>University of Arizona</td>\n",
              "      <td>2323</td>\n",
              "    </tr>\n",
              "  </tbody>\n",
              "</table>\n",
              "</div>\n",
              "    <div class=\"colab-df-buttons\">\n",
              "\n",
              "  <div class=\"colab-df-container\">\n",
              "    <button class=\"colab-df-convert\" onclick=\"convertToInteractive('df-a6c17044-3478-47b7-af3e-d32b29f25f9e')\"\n",
              "            title=\"Convert this dataframe to an interactive table.\"\n",
              "            style=\"display:none;\">\n",
              "\n",
              "  <svg xmlns=\"http://www.w3.org/2000/svg\" height=\"24px\" viewBox=\"0 -960 960 960\">\n",
              "    <path d=\"M120-120v-720h720v720H120Zm60-500h600v-160H180v160Zm220 220h160v-160H400v160Zm0 220h160v-160H400v160ZM180-400h160v-160H180v160Zm440 0h160v-160H620v160ZM180-180h160v-160H180v160Zm440 0h160v-160H620v160Z\"/>\n",
              "  </svg>\n",
              "    </button>\n",
              "\n",
              "  <style>\n",
              "    .colab-df-container {\n",
              "      display:flex;\n",
              "      gap: 12px;\n",
              "    }\n",
              "\n",
              "    .colab-df-convert {\n",
              "      background-color: #E8F0FE;\n",
              "      border: none;\n",
              "      border-radius: 50%;\n",
              "      cursor: pointer;\n",
              "      display: none;\n",
              "      fill: #1967D2;\n",
              "      height: 32px;\n",
              "      padding: 0 0 0 0;\n",
              "      width: 32px;\n",
              "    }\n",
              "\n",
              "    .colab-df-convert:hover {\n",
              "      background-color: #E2EBFA;\n",
              "      box-shadow: 0px 1px 2px rgba(60, 64, 67, 0.3), 0px 1px 3px 1px rgba(60, 64, 67, 0.15);\n",
              "      fill: #174EA6;\n",
              "    }\n",
              "\n",
              "    .colab-df-buttons div {\n",
              "      margin-bottom: 4px;\n",
              "    }\n",
              "\n",
              "    [theme=dark] .colab-df-convert {\n",
              "      background-color: #3B4455;\n",
              "      fill: #D2E3FC;\n",
              "    }\n",
              "\n",
              "    [theme=dark] .colab-df-convert:hover {\n",
              "      background-color: #434B5C;\n",
              "      box-shadow: 0px 1px 3px 1px rgba(0, 0, 0, 0.15);\n",
              "      filter: drop-shadow(0px 1px 2px rgba(0, 0, 0, 0.3));\n",
              "      fill: #FFFFFF;\n",
              "    }\n",
              "  </style>\n",
              "\n",
              "    <script>\n",
              "      const buttonEl =\n",
              "        document.querySelector('#df-a6c17044-3478-47b7-af3e-d32b29f25f9e button.colab-df-convert');\n",
              "      buttonEl.style.display =\n",
              "        google.colab.kernel.accessAllowed ? 'block' : 'none';\n",
              "\n",
              "      async function convertToInteractive(key) {\n",
              "        const element = document.querySelector('#df-a6c17044-3478-47b7-af3e-d32b29f25f9e');\n",
              "        const dataTable =\n",
              "          await google.colab.kernel.invokeFunction('convertToInteractive',\n",
              "                                                    [key], {});\n",
              "        if (!dataTable) return;\n",
              "\n",
              "        const docLinkHtml = 'Like what you see? Visit the ' +\n",
              "          '<a target=\"_blank\" href=https://colab.research.google.com/notebooks/data_table.ipynb>data table notebook</a>'\n",
              "          + ' to learn more about interactive tables.';\n",
              "        element.innerHTML = '';\n",
              "        dataTable['output_type'] = 'display_data';\n",
              "        await google.colab.output.renderOutput(dataTable, element);\n",
              "        const docLink = document.createElement('div');\n",
              "        docLink.innerHTML = docLinkHtml;\n",
              "        element.appendChild(docLink);\n",
              "      }\n",
              "    </script>\n",
              "  </div>\n",
              "\n",
              "\n",
              "<div id=\"df-c28ba300-9f75-42cc-8293-39d2d5fa1067\">\n",
              "  <button class=\"colab-df-quickchart\" onclick=\"quickchart('df-c28ba300-9f75-42cc-8293-39d2d5fa1067')\"\n",
              "            title=\"Suggest charts\"\n",
              "            style=\"display:none;\">\n",
              "\n",
              "<svg xmlns=\"http://www.w3.org/2000/svg\" height=\"24px\"viewBox=\"0 0 24 24\"\n",
              "     width=\"24px\">\n",
              "    <g>\n",
              "        <path d=\"M19 3H5c-1.1 0-2 .9-2 2v14c0 1.1.9 2 2 2h14c1.1 0 2-.9 2-2V5c0-1.1-.9-2-2-2zM9 17H7v-7h2v7zm4 0h-2V7h2v10zm4 0h-2v-4h2v4z\"/>\n",
              "    </g>\n",
              "</svg>\n",
              "  </button>\n",
              "\n",
              "<style>\n",
              "  .colab-df-quickchart {\n",
              "      --bg-color: #E8F0FE;\n",
              "      --fill-color: #1967D2;\n",
              "      --hover-bg-color: #E2EBFA;\n",
              "      --hover-fill-color: #174EA6;\n",
              "      --disabled-fill-color: #AAA;\n",
              "      --disabled-bg-color: #DDD;\n",
              "  }\n",
              "\n",
              "  [theme=dark] .colab-df-quickchart {\n",
              "      --bg-color: #3B4455;\n",
              "      --fill-color: #D2E3FC;\n",
              "      --hover-bg-color: #434B5C;\n",
              "      --hover-fill-color: #FFFFFF;\n",
              "      --disabled-bg-color: #3B4455;\n",
              "      --disabled-fill-color: #666;\n",
              "  }\n",
              "\n",
              "  .colab-df-quickchart {\n",
              "    background-color: var(--bg-color);\n",
              "    border: none;\n",
              "    border-radius: 50%;\n",
              "    cursor: pointer;\n",
              "    display: none;\n",
              "    fill: var(--fill-color);\n",
              "    height: 32px;\n",
              "    padding: 0;\n",
              "    width: 32px;\n",
              "  }\n",
              "\n",
              "  .colab-df-quickchart:hover {\n",
              "    background-color: var(--hover-bg-color);\n",
              "    box-shadow: 0 1px 2px rgba(60, 64, 67, 0.3), 0 1px 3px 1px rgba(60, 64, 67, 0.15);\n",
              "    fill: var(--button-hover-fill-color);\n",
              "  }\n",
              "\n",
              "  .colab-df-quickchart-complete:disabled,\n",
              "  .colab-df-quickchart-complete:disabled:hover {\n",
              "    background-color: var(--disabled-bg-color);\n",
              "    fill: var(--disabled-fill-color);\n",
              "    box-shadow: none;\n",
              "  }\n",
              "\n",
              "  .colab-df-spinner {\n",
              "    border: 2px solid var(--fill-color);\n",
              "    border-color: transparent;\n",
              "    border-bottom-color: var(--fill-color);\n",
              "    animation:\n",
              "      spin 1s steps(1) infinite;\n",
              "  }\n",
              "\n",
              "  @keyframes spin {\n",
              "    0% {\n",
              "      border-color: transparent;\n",
              "      border-bottom-color: var(--fill-color);\n",
              "      border-left-color: var(--fill-color);\n",
              "    }\n",
              "    20% {\n",
              "      border-color: transparent;\n",
              "      border-left-color: var(--fill-color);\n",
              "      border-top-color: var(--fill-color);\n",
              "    }\n",
              "    30% {\n",
              "      border-color: transparent;\n",
              "      border-left-color: var(--fill-color);\n",
              "      border-top-color: var(--fill-color);\n",
              "      border-right-color: var(--fill-color);\n",
              "    }\n",
              "    40% {\n",
              "      border-color: transparent;\n",
              "      border-right-color: var(--fill-color);\n",
              "      border-top-color: var(--fill-color);\n",
              "    }\n",
              "    60% {\n",
              "      border-color: transparent;\n",
              "      border-right-color: var(--fill-color);\n",
              "    }\n",
              "    80% {\n",
              "      border-color: transparent;\n",
              "      border-right-color: var(--fill-color);\n",
              "      border-bottom-color: var(--fill-color);\n",
              "    }\n",
              "    90% {\n",
              "      border-color: transparent;\n",
              "      border-bottom-color: var(--fill-color);\n",
              "    }\n",
              "  }\n",
              "</style>\n",
              "\n",
              "  <script>\n",
              "    async function quickchart(key) {\n",
              "      const quickchartButtonEl =\n",
              "        document.querySelector('#' + key + ' button');\n",
              "      quickchartButtonEl.disabled = true;  // To prevent multiple clicks.\n",
              "      quickchartButtonEl.classList.add('colab-df-spinner');\n",
              "      try {\n",
              "        const charts = await google.colab.kernel.invokeFunction(\n",
              "            'suggestCharts', [key], {});\n",
              "      } catch (error) {\n",
              "        console.error('Error during call to suggestCharts:', error);\n",
              "      }\n",
              "      quickchartButtonEl.classList.remove('colab-df-spinner');\n",
              "      quickchartButtonEl.classList.add('colab-df-quickchart-complete');\n",
              "    }\n",
              "    (() => {\n",
              "      let quickchartButtonEl =\n",
              "        document.querySelector('#df-c28ba300-9f75-42cc-8293-39d2d5fa1067 button');\n",
              "      quickchartButtonEl.style.display =\n",
              "        google.colab.kernel.accessAllowed ? 'block' : 'none';\n",
              "    })();\n",
              "  </script>\n",
              "</div>\n",
              "\n",
              "  <div id=\"id_525171dd-0117-42da-868b-d13abf344190\">\n",
              "    <style>\n",
              "      .colab-df-generate {\n",
              "        background-color: #E8F0FE;\n",
              "        border: none;\n",
              "        border-radius: 50%;\n",
              "        cursor: pointer;\n",
              "        display: none;\n",
              "        fill: #1967D2;\n",
              "        height: 32px;\n",
              "        padding: 0 0 0 0;\n",
              "        width: 32px;\n",
              "      }\n",
              "\n",
              "      .colab-df-generate:hover {\n",
              "        background-color: #E2EBFA;\n",
              "        box-shadow: 0px 1px 2px rgba(60, 64, 67, 0.3), 0px 1px 3px 1px rgba(60, 64, 67, 0.15);\n",
              "        fill: #174EA6;\n",
              "      }\n",
              "\n",
              "      [theme=dark] .colab-df-generate {\n",
              "        background-color: #3B4455;\n",
              "        fill: #D2E3FC;\n",
              "      }\n",
              "\n",
              "      [theme=dark] .colab-df-generate:hover {\n",
              "        background-color: #434B5C;\n",
              "        box-shadow: 0px 1px 3px 1px rgba(0, 0, 0, 0.15);\n",
              "        filter: drop-shadow(0px 1px 2px rgba(0, 0, 0, 0.3));\n",
              "        fill: #FFFFFF;\n",
              "      }\n",
              "    </style>\n",
              "    <button class=\"colab-df-generate\" onclick=\"generateWithVariable('results_df')\"\n",
              "            title=\"Generate code using this dataframe.\"\n",
              "            style=\"display:none;\">\n",
              "\n",
              "  <svg xmlns=\"http://www.w3.org/2000/svg\" height=\"24px\"viewBox=\"0 0 24 24\"\n",
              "       width=\"24px\">\n",
              "    <path d=\"M7,19H8.4L18.45,9,17,7.55,7,17.6ZM5,21V16.75L18.45,3.32a2,2,0,0,1,2.83,0l1.4,1.43a1.91,1.91,0,0,1,.58,1.4,1.91,1.91,0,0,1-.58,1.4L9.25,21ZM18.45,9,17,7.55Zm-12,3A5.31,5.31,0,0,0,4.9,8.1,5.31,5.31,0,0,0,1,6.5,5.31,5.31,0,0,0,4.9,4.9,5.31,5.31,0,0,0,6.5,1,5.31,5.31,0,0,0,8.1,4.9,5.31,5.31,0,0,0,12,6.5,5.46,5.46,0,0,0,6.5,12Z\"/>\n",
              "  </svg>\n",
              "    </button>\n",
              "    <script>\n",
              "      (() => {\n",
              "      const buttonEl =\n",
              "        document.querySelector('#id_525171dd-0117-42da-868b-d13abf344190 button.colab-df-generate');\n",
              "      buttonEl.style.display =\n",
              "        google.colab.kernel.accessAllowed ? 'block' : 'none';\n",
              "\n",
              "      buttonEl.onclick = () => {\n",
              "        google.colab.notebook.generateWithVariable('results_df');\n",
              "      }\n",
              "      })();\n",
              "    </script>\n",
              "  </div>\n",
              "\n",
              "    </div>\n",
              "  </div>\n"
            ],
            "text/plain": [
              "  BillingCountry           AccountId                          AccountName  \\\n",
              "0                 0018a000022jPn9AAE                        Kittycorn LLC   \n",
              "1                 0018a0000260eJzAAI                   Account for Laptop   \n",
              "2         France  0018a00001uyzi2AAA            Pyramid Construction Inc.   \n",
              "3            USA  0018a00001uyzi0AAA                  Edge Communications   \n",
              "4            USA  0018a00001uyzhxAAA                            GenePoint   \n",
              "5            USA  0018a00001uyzi1AAA  Burlington Textiles Corp of America   \n",
              "6            USA  0018a00001uyzhwAAA                               sForce   \n",
              "7            USA  0018a00001uyzhuAAA                University of Arizona   \n",
              "\n",
              "   OpportunityCount  \n",
              "0                 1  \n",
              "1                 1  \n",
              "2              2576  \n",
              "3              3424  \n",
              "4              3081  \n",
              "5              2348  \n",
              "6              2326  \n",
              "7              2323  "
            ]
          },
          "execution_count": 16,
          "metadata": {},
          "output_type": "execute_result"
        }
      ],
      "source": [
        "results_df = bq_client.query(query).result().to_dataframe()\n",
        "results_df"
      ]
    },
    {
      "cell_type": "markdown",
      "metadata": {
        "id": "2EJuMxsrn6vx"
      },
      "source": [
        "## Build a Chart"
      ]
    },
    {
      "cell_type": "code",
      "execution_count": 2,
      "metadata": {
        "id": "kBkwszqrn6vx"
      },
      "outputs": [
        {
          "data": {
            "text/markdown": [
              "<img src=\"data:image/png;base64,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\">"
            ],
            "text/plain": [
              "<IPython.core.display.Markdown object>"
            ]
          },
          "metadata": {},
          "output_type": "display_data"
        }
      ],
      "source": [
        "import altair as alt\n",
        "import json\n",
        "import jsonschema\n",
        "\n",
        "chart_prompt = f\"\"\"\n",
        "You have SQL code:\n",
        "```sql\n",
        "{query}\n",
        "```\n",
        "\n",
        "And you have data (up to first 10 rows, we may have more):\n",
        "```\n",
        "{results_df.head(10)}\n",
        "```\n",
        "\n",
        "Generate a chart code in Vega Lite 4 format.\n",
        "* For dimensions, prefer names of entities over their ids.\n",
        "For example, if there is a CustomerId column and CustomerName column in the data, choose CustomerName as a chart dimension. So, pay attention to \"name\" columns.\n",
        "\n",
        "RULES:\n",
        "* Only one chart is allowed.\n",
        "* Your data model is BigQuery query you already have.\n",
        "* Make sure to come up with a good title for the chart.\n",
        "* Make sure the chart will look good in a dashboard. Apply reasonable filters to make it look good.\n",
        "* Make sure the legend truly represents the chart. Pay additional attention to units of the legend.\n",
        "* Use entity names over their identifiers in the chart - it will be seen by a human.\n",
        "* Visualize values that are the best to answer the prompt.\n",
        "* Keep it simple, but good looking.\n",
        "\n",
        "Do not make the chart too small.\n",
        "DO NOT MAKE UP FUNCTIONS OR PROPERTIES THAN DON'T EXIST IN Vega Lite 4 schema!\n",
        "Chart must be the best way to answer the question directly or provide data to do so.\n",
        "\n",
        "Just the remember, the original question was:\n",
        "```\n",
        "{QUESTION}\n",
        "```\n",
        "\n",
        "The rephrased version of it:\n",
        "```\n",
        "{rephrased_question}\n",
        "```\n",
        "\"\"\"\n",
        "\n",
        "chart_chat = model.start_chat()\n",
        "chart_json = chart_chat.send_message(chart_prompt).text\n",
        "\n",
        "while True:\n",
        "  if \"```vega-lite\" in chart_json:\n",
        "    vega = chart_json.split(\"```vega-lite\", 1)[-1].rsplit(\"```\", 1)[0]\n",
        "  elif \"```vega\" in chart_json:\n",
        "    vega = chart_json.split(\"```vega\", 1)[-1].rsplit(\"```\", 1)[0]\n",
        "  elif \"```json\" in chart_json:\n",
        "    vega = chart_json.split(\"```json\", 1)[-1].rsplit(\"```\", 1)[0]\n",
        "  else:\n",
        "    vega = chart_json\n",
        "  vega_dict = json.loads(vega)\n",
        "  vega_dict[\"data\"] = {\n",
        "      \"values\": []\n",
        "  }\n",
        "  try:\n",
        "    vega_chart = alt.Chart.from_dict(vega_dict)\n",
        "    break\n",
        "  except jsonschema.ValidationError as ex:\n",
        "    display(Markdown(f\"\\n\\n**Invalid Vega Lite json. Trying to fix it.**\\n\\nError: {ex.message}\"))\n",
        "    chart_json = chart_chat.send_message(ex.message).text\n",
        "\n",
        "rows_dicts = results_df.to_dict(\"records\")\n",
        "vega_dict[\"data\"] = {\n",
        "      \"values\": rows_dicts\n",
        "  }\n",
        "vega_chart = alt.Chart.from_dict(vega_dict)\n",
        "vega_chart.display()"
      ]
    }
  ],
  "metadata": {
    "colab": {
      "provenance": []
    },
    "kernelspec": {
      "display_name": "Python 3",
      "name": "python3"
    },
    "language_info": {
      "codemirror_mode": {
        "name": "ipython",
        "version": 3
      },
      "file_extension": ".py",
      "mimetype": "text/x-python",
      "name": "python",
      "nbconvert_exporter": "python",
      "pygments_lexer": "ipython3",
      "version": "3.11.0"
    }
  },
  "nbformat": 4,
  "nbformat_minor": 0
}
