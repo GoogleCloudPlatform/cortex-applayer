{
  "cells": [
    {
      "cell_type": "code",
      "execution_count": null,
      "metadata": {},
      "outputs": [],
      "source": [
        "# Copyright 2024 Google LLC\n",
        "#\n",
        "# Licensed under the Apache License, Version 2.0 (the \"License\");\n",
        "# you may not use this file except in compliance with the License.\n",
        "# You may obtain a copy of the License at\n",
        "#\n",
        "#     https://www.apache.org/licenses/LICENSE-2.0\n",
        "#\n",
        "# Unless required by applicable law or agreed to in writing, software\n",
        "# distributed under the License is distributed on an \"AS IS\" BASIS,\n",
        "# WITHOUT WARRANTIES OR CONDITIONS OF ANY KIND, either express or implied.\n",
        "# See the License for the specific language governing permissions and\n",
        "# limitations under the License."
      ]
    },
    {
      "cell_type": "markdown",
      "metadata": {
        "id": "vCxAnIuVn6vs"
      },
      "source": [
        "# Ask Salesforce in BigQuery\n",
        "\n",
        "<table align=\"left\">\n",
        "  <td style=\"text-align: center\">\n",
        "    <a href=\"https://colab.research.google.com/github/GoogleCloudPlatform/cortex-applayer/blob/main/apps/Ask_Cortex/ask_sfdc_in_bq.ipynb\">\n",
        "      <img src=\"https://cloud.google.com/ml-engine/images/colab-logo-32px.png\" alt=\"Google Colaboratory logo\"><br> Open in Colab\n",
        "    </a>\n",
        "  </td>\n",
        "  <td style=\"text-align: center\">\n",
        "    <a href=\"https://console.cloud.google.com/vertex-ai/colab/import/https:%2F%2Fraw.githubusercontent.com%2FGoogleCloudPlatform%2Fcortex-applayer%2Fmain%2Fapps%2FAsk_Cortex%2Fask_sfdc_in_bq.ipynb\">\n",
        "      <img width=\"32px\" src=\"https://lh3.googleusercontent.com/JmcxdQi-qOpctIvWKgPtrzZdJJK-J3sWE1RsfjZNwshCFgE_9fULcNpuXYTilIR2hjwN\" alt=\"Google Cloud Colab Enterprise logo\"><br> Open in Colab Enterprise\n",
        "    </a>\n",
        "  </td>    \n",
        "  <td style=\"text-align: center\">\n",
        "    <a href=\"https://console.cloud.google.com/vertex-ai/workbench/deploy-notebook?download_url=https://raw.githubusercontent.com/GoogleCloudPlatform/cortex-applayer/blob/main/apps/Ask_Cortex/ask_sfdc_in_bq.ipynb\">\n",
        "      <img src=\"https://lh3.googleusercontent.com/UiNooY4LUgW_oTvpsNhPpQzsstV5W8F7rYgxgGBD85cWJoLmrOzhVs_ksK_vgx40SHs7jCqkTkCk=e14-rj-sc0xffffff-h130-w32\" alt=\"Vertex AI logo\"><br> Open in Workbench\n",
        "    </a>\n",
        "  </td>\n",
        "  <td style=\"text-align: center\">\n",
        "    <a href=\"https://github.com/GoogleCloudPlatform/cortex-applayer/blob/main/apps/Ask_Cortex/ask_sfdc_in_bq.ipynb\">\n",
        "      <img src=\"https://cloud.google.com/ml-engine/images/github-logo-32px.png\" alt=\"GitHub logo\"><br> View on GitHub\n",
        "    </a>\n",
        "  </td>\n",
        "</table>"
      ]
    },
    {
      "cell_type": "markdown",
      "metadata": {},
      "source": [
        "| | |\n",
        "|-|-|\n",
        "|Author(s) | [Vlad Kolesnikov](https://github.com/vladkol) |"
      ]
    },
    {
      "cell_type": "markdown",
      "metadata": {
        "id": "9zEvIP7_n6vt"
      },
      "source": [
        "## Overview\n",
        "\n",
        "In this tutorial, you will learn how to use Gemini's [Long Context Learning](https://ai.google.dev/gemini-api/docs/long-context)\n",
        "for converting natural language questions to SQL queries for\n",
        "[Salesforce Sales Cloud](https://www.salesforce.com/sales/cloud/) data in [Google Cloud BigQuery](https://cloud.google.com/bigquery).\n",
        "\n",
        "Having 2M token context allow Gemini 1.5 Pro to learn from an entire database schema and its metadata. The schema is generated using a real Salesforce.com instance and its data replicated to a BigQuery dataset.\n",
        "\n",
        "To run this tutorial, you need a Gemini API key and access to BigQuery:\n",
        "\n",
        "* Get a Gemini API key [here](https://aistudio.google.com/app/apikey).\n",
        "* For BigQuery, use **Project ID** of your [Google Cloud project](https://console.cloud.google.com/iam-admin/settings) or [BigQuery Sandbox](https://cloud.google.com/bigquery/docs/sandbox).\n"
      ]
    },
    {
      "cell_type": "markdown",
      "metadata": {
        "id": "moGnFgx0n6vu"
      },
      "source": [
        "## Configuration"
      ]
    },
    {
      "cell_type": "markdown",
      "metadata": {
        "id": "cyEzO1YFn6vu"
      },
      "source": [
        "### Gemini API Key and Model Name\n",
        "\n",
        "Get a Gemini API key [here](https://aistudio.google.com/app/apikey)."
      ]
    },
    {
      "cell_type": "code",
      "execution_count": 70,
      "metadata": {
        "cellView": "form",
        "id": "kAxWWtI2n6vu"
      },
      "outputs": [],
      "source": [
        "# { display-mode: \"form\" }\n",
        "GEMINI_API_KEY = \"\" # @param {type:\"string\"}\n",
        "GEMINI_MODEL = \"gemini-1.5-pro-001\"\n",
        "GEMINI_UTIL_MODEL = \"gemini-1.5-flash-001\""
      ]
    },
    {
      "cell_type": "markdown",
      "metadata": {
        "id": "h9rzpnwon6vv"
      },
      "source": [
        "### BigQuery Project\n",
        "\n",
        "Use **Project ID** of your [Google Cloud project](https://console.cloud.google.com/iam-admin/settings) or [BigQuery Sandbox](https://cloud.google.com/bigquery/docs/sandbox)."
      ]
    },
    {
      "cell_type": "code",
      "execution_count": 69,
      "metadata": {
        "cellView": "form",
        "id": "jJ2jBPOln6vv"
      },
      "outputs": [],
      "source": [
        "# { display-mode: \"form\" }\n",
        "\n",
        "BIGQUERY_PROJECT_ID = \"\"  # @param {type:\"string\"}"
      ]
    },
    {
      "cell_type": "markdown",
      "metadata": {
        "id": "CwTjqTKIn6vv"
      },
      "source": [
        "### Install Dependencies"
      ]
    },
    {
      "cell_type": "code",
      "execution_count": 3,
      "metadata": {
        "colab": {
          "base_uri": "https://localhost:8080/"
        },
        "id": "TO2hzUBzYI9g",
        "outputId": "4cfac656-1309-4c6f-c732-efeeb9220fdd"
      },
      "outputs": [
        {
          "name": "stdout",
          "output_type": "stream",
          "text": [
            "Python dependencies have been installed.\n"
          ]
        }
      ],
      "source": [
        "%pip install -U google-cloud-bigquery[pandas] google-generativeai altair 1>/dev/null && echo \"Python dependencies have been installed.\"\n",
        "\n",
        "try:\n",
        "  import requests\n",
        "except ModuleNotFoundError:\n",
        "  %pip install -U requests"
      ]
    },
    {
      "cell_type": "markdown",
      "metadata": {
        "id": "U79ekKRGn6vv"
      },
      "source": [
        "## Initialize Models"
      ]
    },
    {
      "cell_type": "markdown",
      "metadata": {
        "id": "F9uIU5Een6vv"
      },
      "source": [
        "### Model Configuration"
      ]
    },
    {
      "cell_type": "code",
      "execution_count": 64,
      "metadata": {
        "id": "rOCQ9CQrn6vv"
      },
      "outputs": [],
      "source": [
        "import google.generativeai as genai\n",
        "from google.generativeai.types import HarmCategory, HarmBlockThreshold\n",
        "\n",
        "if not GEMINI_API_KEY:\n",
        "    print(\"GEMINI_API_KEY should not be empty. Gen an API key here: https://aistudio.google.com/app/apikey\")\n",
        "    assert False\n",
        "\n",
        "genai.configure(api_key=GEMINI_API_KEY)\n",
        "\n",
        "generation_config = {\n",
        "    \"temperature\": 0,\n",
        "    \"top_p\": 0.95,\n",
        "    \"top_k\": 4,\n",
        "    \"max_output_tokens\": 8192,\n",
        "    \"response_mime_type\": \"text/plain\",\n",
        "}\n",
        "safety_settings = {\n",
        "    HarmCategory.HARM_CATEGORY_DANGEROUS_CONTENT: HarmBlockThreshold.BLOCK_ONLY_HIGH\n",
        "}"
      ]
    },
    {
      "cell_type": "markdown",
      "metadata": {
        "id": "zGroXur4n6vv"
      },
      "source": [
        "### System Instructions\n",
        "\n",
        "System Instructions establish the model's role, SQL generation rules, and full dataset schema including Salesforce.com metadata for repective tables and columns.\n",
        "\n",
        "The dataset schema enhanced with the metadata contains decriptions of every table and column, dimension values, relationships, and other details.\n",
        "\n",
        "Here is a part of the schema for `opportunities` table:\n",
        "\n",
        "```json\n",
        "{\n",
        "\"opportunities\": {\n",
        "    \"table_name\": \"opportunities\",\n",
        "    \"table_description\": \"Opportunities\",\n",
        "    \"source_salesforce_object\": \"Opportunity\",\n",
        "    \"columns\": {\n",
        "      \"Id\": {\n",
        "        \"name\": \"Id\",\n",
        "        \"type\": \"STRING\",\n",
        "        \"description\": \"[IN SALESFORCE]: Id of Opportunity\\nCannot be NULL\\n\"\n",
        "      },\n",
        "      \"AccountId\": {\n",
        "        \"name\": \"AccountId\",\n",
        "        \"type\": \"STRING\",\n",
        "        \"mode\": \"NULLABLE\",\n",
        "        \"description\": \"[IN SALESFORCE]: Account ID\\nCan be NULL\\n\\nRefers to table(s) with following Salesforce object(s): Account\"\n",
        "      },\n",
        "      \"RecordTypeId\": {\n",
        "        \"name\": \"RecordTypeId\",\n",
        "        \"type\": \"STRING\",\n",
        "        \"mode\": \"NULLABLE\",\n",
        "        \"description\": \"[IN SALESFORCE]: Record Type ID\\nCan be NULL\\n\\nRefers to table(s) with following Salesforce object(s): RecordType\"\n",
        "      },\n",
        "      \"Name\": {\n",
        "        \"name\": \"Name\",\n",
        "        \"type\": \"STRING\",\n",
        "        \"description\": \"[IN SALESFORCE]: Name of Opportunity\\nCannot be NULL\\n\"\n",
        "      },\n",
        "      \"Description\": {\n",
        "        \"name\": \"Description\",\n",
        "        \"type\": \"STRING\",\n",
        "        \"mode\": \"NULLABLE\",\n",
        "        \"description\": \"[IN SALESFORCE]: Description of Opportunity\\nCan be NULL\\n\"\n",
        "      },\n",
        "      \"StageName\": {\n",
        "        \"name\": \"StageName\",\n",
        "        \"type\": \"STRING\",\n",
        "        \"mode\": \"NULLABLE\",\n",
        "        \"description\": \"[IN SALESFORCE]: Stage\\nCannot be NULL\\n\\nPossible values: \\n* `Prospecting` (Prospecting)\\n* `Qualification` (Qualification)\\n* `Needs Analysis` (Needs Analysis)\\n* `Value Proposition` (Value Proposition)\\n* `Id. Decision Makers` (Id. Decision Makers)\\n* `Perception Analysis` (Perception Analysis)\\n* `Proposal/Price Quote` (Proposal/Price Quote)\\n* `Negotiation/Review` (Negotiation/Review)\\n* `Closed Won` (Closed Won)\\n* `Closed Lost` (Closed Lost)\\n* `Actual Target` (Actual Target)\\n\\n\"\n",
        "      }\n",
        "   }\n",
        "}\n",
        "```"
      ]
    },
    {
      "cell_type": "code",
      "execution_count": 65,
      "metadata": {
        "id": "oT9OAX29n6vv"
      },
      "outputs": [],
      "source": [
        "from pathlib import Path\n",
        "import requests\n",
        "from IPython.display import display, Markdown\n",
        "\n",
        "sfdc_metadata_local = Path(\"sfdc_metadata.json\")\n",
        "if sfdc_metadata_local.exists():\n",
        "  sfdc_cortex_schema = sfdc_metadata_local.read_text()\n",
        "else:\n",
        "  sfdc_cortex_schema = requests.get(\n",
        "      \"https://storage.googleapis.com/cortex-public-documents/gemini/sfdc-bq-schema_07-2024.json\").text\n",
        "  sfdc_metadata_local.write_text(sfdc_cortex_schema)\n",
        "sfdc_cortex_schema = sfdc_cortex_schema.replace(\"[IN SALESFORCE]: \", \"\")\n",
        "\n",
        "system_instructions = f\"\"\"\n",
        "You are an experienced Data Engineer working with data warehouses in Google Cloud BigQuery.\n",
        "You write correct, clean and performant BigQuery SQL.\n",
        "You used to work as Salesforce Sales Cloud consultant and developer.\n",
        "You have an MBA degree, and experience running a business.\n",
        "\n",
        "You will be asked different questions. If a question can be answered using CRM data in Salesforce Sales Cloud, use the following approach.\n",
        "\n",
        "First, generate a step-by-step algorithm for answering the question. It's an important stage.\n",
        "ALGORITHM RULES:\n",
        "        - If mentioning any metrics, scores or criteria, DEFINE THEM YOUSELF, including formulas or rules to calculate.\n",
        "        - If any thresholds or value intervals are mentioned, DEFINE them YOUSELF with specific values.\n",
        "        - When defining something, be very specific.\n",
        "        - The algorithm will be later used to generate SQL queries and dashboards.\n",
        "        - Do not include specific field names to your answer.\n",
        "        - Do not generate code or SQL.\n",
        "        - Do not tell what fields to select or by what field to filter.\n",
        "        - Follow instructions in the question.\n",
        "        - DO NOT REFER TO SPECIFIC TABLES OR FIELDS.\n",
        "\n",
        "Evaluate whether the algorithm can be executed using Salesforce Sales Cloud data. Adjust it as necessary. Show the final algorithm.\n",
        "\n",
        "Next step is to convert the algorithm to BigQuery SQL query.\n",
        "You Salesforce Sales Cloud data is available as tables in a BigQuery dataset.\n",
        "Generate a BigQuery SQL query that implements the algorithm.\n",
        "Use ONLY tables and fields from the table specifications below (goes after `[TABLES_FIELDS]`).\n",
        "Your BigQuery project is `kittycorn-public`.\n",
        "Your BigQuery dataset is `sfdc__raw__5_3__us`.\n",
        "\n",
        "SQL Generation rules:\n",
        "\n",
        "- Table and field names are case-sensitive.\n",
        "- Exclude tables and fields that are not relevant to the algorithm (except names or descriptions).\n",
        "- Pay special attention to date dimensions.\n",
        "- When using constants in WHERE statements with fields that have \"Possible Values\" in the description, perform comparison against all relevant values using `IN` rather than `=` (equal).\n",
        "- Do not impose filters (WHERE statements) or JOIN predicates that are not required.\n",
        "- For Geographical dimensions, if you need to filter on them (AND ONLY IF YOU NEED!):\n",
        "  - For countries ALWAYS check using multiple forms, including ISO code.\n",
        "      Example: for `United States`, instead of writing `Country='US'`, write `Country IN ('US', 'USA', 'United States')`.\n",
        "  - For states and provinces ALWAYS check using multiple forms people may use it in.\n",
        "      Example: Instead of writing `State='Florida'`, write `State IN ('FL', 'Florida')`.\n",
        "      Example: Instead of writing `State='TX'`, write `State IN ('TX', 'Texas')`.\n",
        "  - When multiple states are supposed to be checked, use all forms of all states.\n",
        "      Example: Instead of writing `State IN ('TX', 'FL')`, write `State IN ('TX', 'Texas', 'FL', 'Florida')`.\n",
        "  - Do not make geographical names up.\n",
        "  - Only filter by fields that are necessary for implementing the algorithm.\n",
        "- Make the query as simple as possible, but implementing the algorithm.\n",
        "- Pay attention to what kind of join you use.\n",
        "- IMPORTANT: Make sure you include IDs and Names of entities required by the algorithm.\n",
        "- Unique Id field may have name `Id` or `{{Entity}}Id`  where `{{Entity}}` is a singular name of entity type this table stores.\n",
        "    For example, a table that stores Opportunities may have unique Id field with name `OpportunityId`.\n",
        "- Each used table must have a random alias. Each field must be specified with a table alias.\n",
        "- All table references should be fully-qualified with project and dataset.\n",
        "- Any constants you need - make sure they exist in BigQuery or defined in the query you generate.\n",
        "\n",
        "The results will be visualized in a dashboard for a human.\n",
        "You have Salesforce data in BigQuery.\n",
        "Do not put restrictions, filters or limits that are not defined in the algorithm or the original question.\n",
        "\n",
        "If you need metrics and/or dimensions and/or calculations that\n",
        "cannot be done with the data in tables above, adjust the algorithm to have them excluded,\n",
        "but try to come up with alternative steps in the SQL. NO PLACEHOLDERS, only executable SQL code.\n",
        "\n",
        "Your output must be a valid BigQuery SQL query. Do not use anything that will not run in BigQuery's GoogleSQL.\n",
        "\n",
        "Once you generated SQL code, evaluate the query on following all SQL Generation rules.\n",
        "Pay special attention to using proper columns with proper tables.\n",
        "\n",
        "If you cannot answer the question with Salesforce data in BigQuery or if running SQL is not enough to implement the algorithm, let the user know what's missing.\n",
        "\n",
        "Otherwise, finish your answer with a final correct BigQuery SQL.\n",
        "\n",
        "[TABLES_FIELDS]\n",
        "{sfdc_cortex_schema}\n",
        "\"\"\""
      ]
    },
    {
      "cell_type": "markdown",
      "metadata": {
        "id": "-PcYmoUtn6vw"
      },
      "source": [
        "### Initialize Models and a Chat\n",
        "\n",
        "This tutorial's prompts are optimized Gemini 1.5 Pro (`gemini-1.5-pro-001`)."
      ]
    },
    {
      "cell_type": "code",
      "execution_count": 66,
      "metadata": {
        "id": "3dmZe5kfW6qZ"
      },
      "outputs": [],
      "source": [
        "model = genai.GenerativeModel(\n",
        "    model_name=GEMINI_MODEL,\n",
        "    generation_config=generation_config,\n",
        "    safety_settings=safety_settings,\n",
        "    system_instruction=system_instructions)\n",
        "chat_session = model.start_chat()\n",
        "\n",
        "# Additional model to perform utility operations.\n",
        "model_util = genai.GenerativeModel(\n",
        "    model_name=GEMINI_UTIL_MODEL,\n",
        "    generation_config=generation_config,\n",
        "    safety_settings=safety_settings,\n",
        "    system_instruction=\"\"\"\n",
        "     - You are an experienced Data Engineer working with data warehouses in Google Cloud BigQuery.\n",
        "     - You write correct, clean and performant BigQuery SQL.\n",
        "     - You carefully follow instructions on output format.\n",
        "     \"\"\")"
      ]
    },
    {
      "cell_type": "markdown",
      "metadata": {
        "id": "ddIiLazgV_o4"
      },
      "source": [
        "## Generate Entity Relationship Diagram\n",
        "\n",
        "First, let's ask Gemini to generate an Entity Relationship Diagram straight from the dataset schema."
      ]
    },
    {
      "cell_type": "code",
      "execution_count": 67,
      "metadata": {
        "id": "3sgHDQ0uV_o4"
      },
      "outputs": [
        {
          "name": "stderr",
          "output_type": "stream",
          "text": []
        }
      ],
      "source": [
        "erd_code = model.generate_content(f\"\"\"Generate our database ERD in Mermaid format in Markdown.\n",
        "                                  Choose the best layout given the schema and the diagram content.\n",
        "                                  Preserve correct names.\n",
        "\n",
        "                                  [TABLES_FIELDS]\n",
        "                                  {sfdc_cortex_schema}\n",
        "                                  \"\"\").text\n",
        "erd_code = erd_code.split(\"```mermaid\", 1)[-1].rsplit(\"```\", 1)[0].strip()"
      ]
    },
    {
      "cell_type": "markdown",
      "metadata": {
        "id": "RSmFZqnwtpph"
      },
      "source": [
        "### Vizualize the diagram"
      ]
    },
    {
      "cell_type": "code",
      "execution_count": 68,
      "metadata": {
        "colab": {
          "base_uri": "https://localhost:8080/",
          "height": 836
        },
        "id": "uemOVCcgp9Uh",
        "outputId": "d1bff895-49a4-4e1f-cacb-6357a46069d8"
      },
      "outputs": [
        {
          "data": {
            "text/markdown": [
              "[![](https://mermaid.ink/svg/pako:eNqVVctuwjAQ_BXkM_mB3Gh7qdSICir1ksvKXsAqsZGzpkKEf68hsSE0DyenxJnx7uyO12fGtUCWMjRvErYGilzNWg9wrq2iclZVSaLP9-90lkFJaFbItRHvYozIocQra1GvRxC0IuA0iYNHVNMY-nDQhqySJKelR1D-TCLYEs0gIQh-qthrvT5OCOq_d3oc_aw8OoxXHhXFq-7dfY8gIhW0oINZ1FH_W3b5q9CMwH3Zo7B3j8bAg7wYcK02DvvcyxiOL2AMNnTRIBCKl1Mk_sONiEwLuZETSBko2HalFBp50UlSVY-N_QSDnWfq1swG7zs7PLg6Kb37ewN4_N0QI1H6iSu8NrP86vB1Y6CGE-zkgljjEuS44CSPkk59h6dhem8N59iiPBTbneUjGueD3lHWYj5IC8yRcdAwO0ZUTV-GHx1Ka2M3W3iXd5WIzVmBpgAp3A14vm6TM9phgTlL3avADdg95SxXFwcFS3p9UpylZCzOmdF2u2PpBval-7IH4U5Gc4mGVRSStMnqO_Z21V7-AL8HQVY?type=png)](https://mermaid.live/edit#pako:eNqVVctuwjAQ_BXkM_mB3Gh7qdSICir1ksvKXsAqsZGzpkKEf68hsSE0DyenxJnx7uyO12fGtUCWMjRvErYGilzNWg9wrq2iclZVSaLP9-90lkFJaFbItRHvYozIocQra1GvRxC0IuA0iYNHVNMY-nDQhqySJKelR1D-TCLYEs0gIQh-qthrvT5OCOq_d3oc_aw8OoxXHhXFq-7dfY8gIhW0oINZ1FH_W3b5q9CMwH3Zo7B3j8bAg7wYcK02DvvcyxiOL2AMNnTRIBCKl1Mk_sONiEwLuZETSBko2HalFBp50UlSVY-N_QSDnWfq1swG7zs7PLg6Kb37ewN4_N0QI1H6iSu8NrP86vB1Y6CGE-zkgljjEuS44CSPkk59h6dhem8N59iiPBTbneUjGueD3lHWYj5IC8yRcdAwO0ZUTV-GHx1Ka2M3W3iXd5WIzVmBpgAp3A14vm6TM9phgTlL3avADdg95SxXFwcFS3p9UpylZCzOmdF2u2PpBval-7IH4U5Gc4mGVRSStMnqO_Z21V7-AL8HQVY)"
            ],
            "text/plain": [
              "<IPython.core.display.Markdown object>"
            ]
          },
          "metadata": {},
          "output_type": "display_data"
        }
      ],
      "source": [
        "import sys\n",
        "\n",
        "if \"google.colab\" in sys.modules:\n",
        "  from IPython.display import HTML\n",
        "\n",
        "  mermaid_html = f\"\"\"\n",
        "  <!DOCTYPE html>\n",
        "  <html lang=\"en\">\n",
        "    <head>\n",
        "    <script src=\"https://cdn.jsdelivr.net/npm/mermaid/dist/mermaid.min.js\"></script>\n",
        "    </head>\n",
        "  <body>\n",
        "  <pre>\n",
        "    <code class=\"language-mermaid\">\n",
        "    {erd_code}\n",
        "    </code>\n",
        "  </pre>\n",
        "  </body>\n",
        "  <script>\n",
        "  var config = {{\n",
        "      startOnLoad:true,\n",
        "      theme: 'forest',\n",
        "      er:{{\n",
        "              useMaxWidth:true,\n",
        "              htmlLabels:true,\n",
        "              entityPadding:12\n",
        "          }}\n",
        "  }};\n",
        "  mermaid.initialize(config);\n",
        "  window.mermaid.init(undefined, document.querySelectorAll('.language-mermaid'));\n",
        "  </script>\n",
        "  </html>\n",
        "  \"\"\"\n",
        "  display(HTML(mermaid_html))\n",
        "else:\n",
        "  display(Markdown(f\"```mermaid\\n{erd_code}\\n```\"))"
      ]
    },
    {
      "cell_type": "markdown",
      "metadata": {
        "id": "8l4P1a1Kn6vw"
      },
      "source": [
        "## Question\n",
        "\n",
        "Now, let's go through the flow of generating BigQuery SQL code that answer a natural language query."
      ]
    },
    {
      "cell_type": "code",
      "execution_count": 71,
      "metadata": {
        "cellView": "form",
        "id": "9EWbFMxbY2C4"
      },
      "outputs": [],
      "source": [
        "# { display-mode: \"form\" }\n",
        "QUESTION = \"Top 5 customers in every country\" # @param {type:\"string\"}"
      ]
    },
    {
      "cell_type": "markdown",
      "metadata": {
        "id": "LizL3fHDn6vw"
      },
      "source": [
        "### Rephrase the Question"
      ]
    },
    {
      "cell_type": "code",
      "execution_count": 72,
      "metadata": {
        "colab": {
          "base_uri": "https://localhost:8080/",
          "height": 90
        },
        "id": "4yQ0Rw3Vn6vw",
        "outputId": "13803f60-95aa-4c9f-f2bb-3ae0ad8867fa"
      },
      "outputs": [
        {
          "data": {
            "text/markdown": [
              "## Rephrased Question\n",
              "\n",
              "What are the names and IDs of the 5 Accounts with the highest number of associated Opportunities in each Billing Country? \n"
            ],
            "text/plain": [
              "<IPython.core.display.Markdown object>"
            ]
          },
          "metadata": {},
          "output_type": "display_data"
        }
      ],
      "source": [
        "rephrased_question = model.generate_content(f\"\"\"\n",
        "    Rephrase the following question using the following rules:\n",
        "    1. If you need to define a KPI, criteria, etc., try to do it yourself - don't leave placeholders.\n",
        "    2. When rephrasing, keep in mind that to get the answer, your the question will be converted to BigQuery SQL.\n",
        "    3. Your output is the rephrased question only in plain text.\n",
        "    Question:\n",
        "    ```\n",
        "    {QUESTION}\n",
        "    ```\n",
        "\"\"\").text\n",
        "display(Markdown(f\"## Rephrased Question\\n\\n{rephrased_question}\"))"
      ]
    },
    {
      "cell_type": "markdown",
      "metadata": {
        "id": "mNTDOPAXn6vw"
      },
      "source": [
        "## Generate SQL"
      ]
    },
    {
      "cell_type": "code",
      "execution_count": 73,
      "metadata": {
        "colab": {
          "base_uri": "https://localhost:8080/",
          "height": 665
        },
        "id": "6gm2XDIQYwHD",
        "outputId": "ceb36141-cb9f-471c-c915-37d25df1b965"
      },
      "outputs": [
        {
          "data": {
            "text/markdown": [
              "### SQL\n",
              "\n",
              "```sql\n",
              "WITH AccountOpportunityCount AS (\n",
              "    SELECT\n",
              "        a.BillingCountry,\n",
              "        a.Id AS AccountId,\n",
              "        a.Name AS AccountName,\n",
              "        COUNT(o.Id) AS OpportunityCount\n",
              "    FROM\n",
              "        `kittycorn-public.sfdc__raw__5_3__us.accounts` AS a\n",
              "    LEFT JOIN\n",
              "        `kittycorn-public.sfdc__raw__5_3__us.opportunities` AS o ON a.Id = o.AccountId\n",
              "    GROUP BY\n",
              "        a.BillingCountry, a.Id, a.Name\n",
              "),\n",
              "RankedAccountOpportunityCount AS (\n",
              "    SELECT\n",
              "        BillingCountry,\n",
              "        AccountId,\n",
              "        AccountName,\n",
              "        OpportunityCount,\n",
              "        ROW_NUMBER() OVER (PARTITION BY BillingCountry ORDER BY OpportunityCount DESC) AS Rank\n",
              "    FROM\n",
              "        AccountOpportunityCount\n",
              ")\n",
              "SELECT\n",
              "    BillingCountry,\n",
              "    AccountId,\n",
              "    AccountName,\n",
              "    OpportunityCount\n",
              "FROM\n",
              "    RankedAccountOpportunityCount\n",
              "WHERE\n",
              "    Rank <= 5\n",
              "ORDER BY\n",
              "    BillingCountry,\n",
              "    OpportunityCount DESC;\n",
              "```\n"
            ],
            "text/plain": [
              "<IPython.core.display.Markdown object>"
            ]
          },
          "metadata": {},
          "output_type": "display_data"
        }
      ],
      "source": [
        "result_text = chat_session.send_message(rephrased_question).text\n",
        "display(Markdown(f\"### SQL\\n\\n{result_text}\"))"
      ]
    },
    {
      "cell_type": "markdown",
      "metadata": {
        "id": "0BwWgRunn6vw"
      },
      "source": [
        "## Execute SQL in BigQuery"
      ]
    },
    {
      "cell_type": "markdown",
      "metadata": {
        "id": "qAqUqT_Pn6vw"
      },
      "source": [
        "### Extract SQL"
      ]
    },
    {
      "cell_type": "code",
      "execution_count": 74,
      "metadata": {
        "id": "fZY5hoFKn6vw"
      },
      "outputs": [],
      "source": [
        "query = model_util.generate_content(\n",
        "    f\"\"\"\n",
        "    Extract SQL code from the code below.\n",
        "\n",
        "    CODE:\n",
        "    {result_text}\n",
        "    \"\"\").text\n",
        "query = query.split(\"```sql\", 1)[-1].rsplit(\"```\", 1)[0].strip()"
      ]
    },
    {
      "cell_type": "markdown",
      "metadata": {
        "id": "IPCyatEcn6vw"
      },
      "source": [
        "### Authenticate with Google Cloud"
      ]
    },
    {
      "cell_type": "code",
      "execution_count": 75,
      "metadata": {
        "id": "eJ5fb589V_o5"
      },
      "outputs": [],
      "source": [
        "import sys\n",
        "\n",
        "if not BIGQUERY_PROJECT_ID:\n",
        "    print(\"BIGQUERY_PROJECT should not be empty. Please specify a Google Cloud Project Id.\")\n",
        "    assert False\n",
        "\n",
        "if \"google.colab\" in sys.modules:\n",
        "    from google.colab import auth\n",
        "    auth.authenticate_user(project_id=BIGQUERY_PROJECT_ID)"
      ]
    },
    {
      "cell_type": "markdown",
      "metadata": {
        "id": "17ZeR0win6vw"
      },
      "source": [
        "### Execute SQL"
      ]
    },
    {
      "cell_type": "code",
      "execution_count": 76,
      "metadata": {
        "colab": {
          "base_uri": "https://localhost:8080/",
          "height": 300
        },
        "id": "zZIp6lmXaOky",
        "outputId": "ca685663-6c94-4a63-bf1b-53d32ac39b56"
      },
      "outputs": [
        {
          "name": "stderr",
          "output_type": "stream",
          "text": []
        },
        {
          "data": {
            "text/html": [
              "<div>\n",
              "<style scoped>\n",
              "    .dataframe tbody tr th:only-of-type {\n",
              "        vertical-align: middle;\n",
              "    }\n",
              "\n",
              "    .dataframe tbody tr th {\n",
              "        vertical-align: top;\n",
              "    }\n",
              "\n",
              "    .dataframe thead th {\n",
              "        text-align: right;\n",
              "    }\n",
              "</style>\n",
              "<table border=\"1\" class=\"dataframe\">\n",
              "  <thead>\n",
              "    <tr style=\"text-align: right;\">\n",
              "      <th></th>\n",
              "      <th>BillingCountry</th>\n",
              "      <th>AccountId</th>\n",
              "      <th>AccountName</th>\n",
              "      <th>OpportunityCount</th>\n",
              "    </tr>\n",
              "  </thead>\n",
              "  <tbody>\n",
              "    <tr>\n",
              "      <th>0</th>\n",
              "      <td></td>\n",
              "      <td>0018a000022jPn9AAE</td>\n",
              "      <td>Kittycorn LLC</td>\n",
              "      <td>1</td>\n",
              "    </tr>\n",
              "    <tr>\n",
              "      <th>1</th>\n",
              "      <td></td>\n",
              "      <td>0018a0000260eJzAAI</td>\n",
              "      <td>Account for Laptop</td>\n",
              "      <td>1</td>\n",
              "    </tr>\n",
              "    <tr>\n",
              "      <th>2</th>\n",
              "      <td>France</td>\n",
              "      <td>0018a00001uyzi2AAA</td>\n",
              "      <td>Pyramid Construction Inc.</td>\n",
              "      <td>2576</td>\n",
              "    </tr>\n",
              "    <tr>\n",
              "      <th>3</th>\n",
              "      <td>USA</td>\n",
              "      <td>0018a00001uyzi0AAA</td>\n",
              "      <td>Edge Communications</td>\n",
              "      <td>3424</td>\n",
              "    </tr>\n",
              "    <tr>\n",
              "      <th>4</th>\n",
              "      <td>USA</td>\n",
              "      <td>0018a00001uyzhxAAA</td>\n",
              "      <td>GenePoint</td>\n",
              "      <td>3081</td>\n",
              "    </tr>\n",
              "    <tr>\n",
              "      <th>5</th>\n",
              "      <td>USA</td>\n",
              "      <td>0018a00001uyzi1AAA</td>\n",
              "      <td>Burlington Textiles Corp of America</td>\n",
              "      <td>2348</td>\n",
              "    </tr>\n",
              "    <tr>\n",
              "      <th>6</th>\n",
              "      <td>USA</td>\n",
              "      <td>0018a00001uyzhwAAA</td>\n",
              "      <td>sForce</td>\n",
              "      <td>2326</td>\n",
              "    </tr>\n",
              "    <tr>\n",
              "      <th>7</th>\n",
              "      <td>USA</td>\n",
              "      <td>0018a00001uyzhuAAA</td>\n",
              "      <td>University of Arizona</td>\n",
              "      <td>2323</td>\n",
              "    </tr>\n",
              "  </tbody>\n",
              "</table>\n",
              "</div>"
            ],
            "text/plain": [
              "  BillingCountry           AccountId                          AccountName  \\\n",
              "0                 0018a000022jPn9AAE                        Kittycorn LLC   \n",
              "1                 0018a0000260eJzAAI                   Account for Laptop   \n",
              "2         France  0018a00001uyzi2AAA            Pyramid Construction Inc.   \n",
              "3            USA  0018a00001uyzi0AAA                  Edge Communications   \n",
              "4            USA  0018a00001uyzhxAAA                            GenePoint   \n",
              "5            USA  0018a00001uyzi1AAA  Burlington Textiles Corp of America   \n",
              "6            USA  0018a00001uyzhwAAA                               sForce   \n",
              "7            USA  0018a00001uyzhuAAA                University of Arizona   \n",
              "\n",
              "   OpportunityCount  \n",
              "0                 1  \n",
              "1                 1  \n",
              "2              2576  \n",
              "3              3424  \n",
              "4              3081  \n",
              "5              2348  \n",
              "6              2326  \n",
              "7              2323  "
            ]
          },
          "execution_count": 76,
          "metadata": {},
          "output_type": "execute_result"
        }
      ],
      "source": [
        "from google.cloud import bigquery\n",
        "\n",
        "bq_client = bigquery.Client(project=BIGQUERY_PROJECT_ID, location=\"US\")\n",
        "\n",
        "results_df = bq_client.query(query).result().to_dataframe()\n",
        "results_df"
      ]
    },
    {
      "cell_type": "markdown",
      "metadata": {
        "id": "2EJuMxsrn6vx"
      },
      "source": [
        "## Build a Chart"
      ]
    },
    {
      "cell_type": "code",
      "execution_count": 81,
      "metadata": {
        "colab": {
          "base_uri": "https://localhost:8080/",
          "height": 593
        },
        "id": "kBkwszqrn6vx",
        "outputId": "d0f986b8-7354-4d14-d2f3-06356eac7b99"
      },
      "outputs": [
        {
          "data": {
            "image/svg+xml": [
              "<svg xmlns=\"http://www.w3.org/2000/svg\" xmlns:xlink=\"http://www.w3.org/1999/xlink\" version=\"1.1\" class=\"marks\" width=\"755\" height=\"572\" viewBox=\"0 0 755 572\"><rect width=\"755\" height=\"572\" fill=\"white\"/><g fill=\"none\" stroke-miterlimit=\"10\" transform=\"translate(53,27)\"><g class=\"mark-group role-frame root\" role=\"graphics-object\" aria-roledescription=\"group mark container\"><g transform=\"translate(0,0)\"><path class=\"background\" aria-hidden=\"true\" d=\"M0.5,0.5h600v400h-600Z\" stroke=\"#ddd\"/><g><g class=\"mark-group role-axis\" aria-hidden=\"true\"><g transform=\"translate(0.5,0.5)\"><path class=\"background\" aria-hidden=\"true\" d=\"M0,0h0v0h0Z\" pointer-events=\"none\"/><g><g class=\"mark-rule role-axis-grid\" pointer-events=\"none\"><line transform=\"translate(0,400)\" x2=\"600\" y2=\"0\" stroke=\"#ddd\" stroke-width=\"1\" opacity=\"1\"/><line transform=\"translate(0,343)\" x2=\"600\" y2=\"0\" stroke=\"#ddd\" stroke-width=\"1\" opacity=\"1\"/><line transform=\"translate(0,286)\" x2=\"600\" y2=\"0\" stroke=\"#ddd\" stroke-width=\"1\" opacity=\"1\"/><line transform=\"translate(0,229)\" x2=\"600\" y2=\"0\" stroke=\"#ddd\" stroke-width=\"1\" opacity=\"1\"/><line transform=\"translate(0,171)\" x2=\"600\" y2=\"0\" stroke=\"#ddd\" stroke-width=\"1\" opacity=\"1\"/><line transform=\"translate(0,114)\" x2=\"600\" y2=\"0\" stroke=\"#ddd\" stroke-width=\"1\" opacity=\"1\"/><line transform=\"translate(0,57)\" x2=\"600\" y2=\"0\" stroke=\"#ddd\" stroke-width=\"1\" opacity=\"1\"/><line transform=\"translate(0,0)\" x2=\"600\" y2=\"0\" stroke=\"#ddd\" stroke-width=\"1\" opacity=\"1\"/></g></g><path class=\"foreground\" aria-hidden=\"true\" d=\"\" pointer-events=\"none\" display=\"none\"/></g></g><g class=\"mark-group role-axis\" role=\"graphics-symbol\" aria-roledescription=\"axis\" aria-label=\"X-axis titled 'AccountName' for a discrete scale with 8 values: Edge Communications, GenePoint, Pyramid Construction Inc., Burlington Textiles Corp of America, sForce, ending with Account for Laptop\"><g transform=\"translate(0.5,400.5)\"><path class=\"background\" aria-hidden=\"true\" d=\"M0,0h0v0h0Z\" pointer-events=\"none\"/><g><g class=\"mark-rule role-axis-tick\" pointer-events=\"none\"><line transform=\"translate(37,0)\" x2=\"0\" y2=\"5\" stroke=\"#888\" stroke-width=\"1\" opacity=\"1\"/><line transform=\"translate(112,0)\" x2=\"0\" y2=\"5\" stroke=\"#888\" stroke-width=\"1\" opacity=\"1\"/><line transform=\"translate(187,0)\" x2=\"0\" y2=\"5\" stroke=\"#888\" stroke-width=\"1\" opacity=\"1\"/><line transform=\"translate(262,0)\" x2=\"0\" y2=\"5\" stroke=\"#888\" stroke-width=\"1\" opacity=\"1\"/><line transform=\"translate(337,0)\" x2=\"0\" y2=\"5\" stroke=\"#888\" stroke-width=\"1\" opacity=\"1\"/><line transform=\"translate(412,0)\" x2=\"0\" y2=\"5\" stroke=\"#888\" stroke-width=\"1\" opacity=\"1\"/><line transform=\"translate(487,0)\" x2=\"0\" y2=\"5\" stroke=\"#888\" stroke-width=\"1\" opacity=\"1\"/><line transform=\"translate(562,0)\" x2=\"0\" y2=\"5\" stroke=\"#888\" stroke-width=\"1\" opacity=\"1\"/></g><g class=\"mark-text role-axis-label\" pointer-events=\"none\"><text text-anchor=\"end\" transform=\"translate(37,7) rotate(315) translate(0,8)\" font-family=\"sans-serif\" font-size=\"10px\" fill=\"#000\" opacity=\"1\">Edge Communications</text><text text-anchor=\"end\" transform=\"translate(112,7) rotate(315) translate(0,8)\" font-family=\"sans-serif\" font-size=\"10px\" fill=\"#000\" opacity=\"1\">GenePoint</text><text text-anchor=\"end\" transform=\"translate(187,7) rotate(315) translate(0,8)\" font-family=\"sans-serif\" font-size=\"10px\" fill=\"#000\" opacity=\"1\">Pyramid Construction Inc.</text><text text-anchor=\"end\" transform=\"translate(262,7) rotate(315) translate(0,8)\" font-family=\"sans-serif\" font-size=\"10px\" fill=\"#000\" opacity=\"1\">Burlington Textiles Corp of America</text><text text-anchor=\"end\" transform=\"translate(337,7) rotate(315) translate(0,8)\" font-family=\"sans-serif\" font-size=\"10px\" fill=\"#000\" opacity=\"1\">sForce</text><text text-anchor=\"end\" transform=\"translate(412,7) rotate(315) translate(0,8)\" font-family=\"sans-serif\" font-size=\"10px\" fill=\"#000\" opacity=\"1\">University of Arizona</text><text text-anchor=\"end\" transform=\"translate(487,7) rotate(315) translate(0,8)\" font-family=\"sans-serif\" font-size=\"10px\" fill=\"#000\" opacity=\"1\">Kittycorn LLC</text><text text-anchor=\"end\" transform=\"translate(562,7) rotate(315) translate(0,8)\" font-family=\"sans-serif\" font-size=\"10px\" fill=\"#000\" opacity=\"1\">Account for Laptop</text></g><g class=\"mark-rule role-axis-domain\" pointer-events=\"none\"><line transform=\"translate(0,0)\" x2=\"600\" y2=\"0\" stroke=\"#888\" stroke-width=\"1\" opacity=\"1\"/></g><g class=\"mark-text role-axis-title\" pointer-events=\"none\"><text text-anchor=\"middle\" transform=\"translate(300,137.50471232481334)\" font-family=\"sans-serif\" font-size=\"11px\" font-weight=\"bold\" fill=\"#000\" opacity=\"1\">AccountName</text></g></g><path class=\"foreground\" aria-hidden=\"true\" d=\"\" pointer-events=\"none\" display=\"none\"/></g></g><g class=\"mark-group role-axis\" role=\"graphics-symbol\" aria-roledescription=\"axis\" aria-label=\"Y-axis titled 'Opportunity Count' for a linear scale with values from 0 to 3,500\"><g transform=\"translate(0.5,0.5)\"><path class=\"background\" aria-hidden=\"true\" d=\"M0,0h0v0h0Z\" pointer-events=\"none\"/><g><g class=\"mark-rule role-axis-tick\" pointer-events=\"none\"><line transform=\"translate(0,400)\" x2=\"-5\" y2=\"0\" stroke=\"#888\" stroke-width=\"1\" opacity=\"1\"/><line transform=\"translate(0,343)\" x2=\"-5\" y2=\"0\" stroke=\"#888\" stroke-width=\"1\" opacity=\"1\"/><line transform=\"translate(0,286)\" x2=\"-5\" y2=\"0\" stroke=\"#888\" stroke-width=\"1\" opacity=\"1\"/><line transform=\"translate(0,229)\" x2=\"-5\" y2=\"0\" stroke=\"#888\" stroke-width=\"1\" opacity=\"1\"/><line transform=\"translate(0,171)\" x2=\"-5\" y2=\"0\" stroke=\"#888\" stroke-width=\"1\" opacity=\"1\"/><line transform=\"translate(0,114)\" x2=\"-5\" y2=\"0\" stroke=\"#888\" stroke-width=\"1\" opacity=\"1\"/><line transform=\"translate(0,57)\" x2=\"-5\" y2=\"0\" stroke=\"#888\" stroke-width=\"1\" opacity=\"1\"/><line transform=\"translate(0,0)\" x2=\"-5\" y2=\"0\" stroke=\"#888\" stroke-width=\"1\" opacity=\"1\"/></g><g class=\"mark-text role-axis-label\" pointer-events=\"none\"><text text-anchor=\"end\" transform=\"translate(-7,403)\" font-family=\"sans-serif\" font-size=\"10px\" fill=\"#000\" opacity=\"1\">0</text><text text-anchor=\"end\" transform=\"translate(-7,345.8571428571429)\" font-family=\"sans-serif\" font-size=\"10px\" fill=\"#000\" opacity=\"1\">500</text><text text-anchor=\"end\" transform=\"translate(-7,288.7142857142857)\" font-family=\"sans-serif\" font-size=\"10px\" fill=\"#000\" opacity=\"1\">1,000</text><text text-anchor=\"end\" transform=\"translate(-7,231.57142857142856)\" font-family=\"sans-serif\" font-size=\"10px\" fill=\"#000\" opacity=\"1\">1,500</text><text text-anchor=\"end\" transform=\"translate(-7,174.42857142857144)\" font-family=\"sans-serif\" font-size=\"10px\" fill=\"#000\" opacity=\"1\">2,000</text><text text-anchor=\"end\" transform=\"translate(-7,117.28571428571428)\" font-family=\"sans-serif\" font-size=\"10px\" fill=\"#000\" opacity=\"1\">2,500</text><text text-anchor=\"end\" transform=\"translate(-7,60.14285714285716)\" font-family=\"sans-serif\" font-size=\"10px\" fill=\"#000\" opacity=\"1\">3,000</text><text text-anchor=\"end\" transform=\"translate(-7,3)\" font-family=\"sans-serif\" font-size=\"10px\" fill=\"#000\" opacity=\"1\">3,500</text></g><g class=\"mark-rule role-axis-domain\" pointer-events=\"none\"><line transform=\"translate(0,400)\" x2=\"0\" y2=\"-400\" stroke=\"#888\" stroke-width=\"1\" opacity=\"1\"/></g><g class=\"mark-text role-axis-title\" pointer-events=\"none\"><text text-anchor=\"middle\" transform=\"translate(-36.0244140625,200) rotate(-90) translate(0,-2)\" font-family=\"sans-serif\" font-size=\"11px\" font-weight=\"bold\" fill=\"#000\" opacity=\"1\">Opportunity Count</text></g></g><path class=\"foreground\" aria-hidden=\"true\" d=\"\" pointer-events=\"none\" display=\"none\"/></g></g><g class=\"mark-rect role-mark marks\" role=\"graphics-object\" aria-roledescription=\"rect mark container\"><path aria-label=\"AccountName: Kittycorn LLC; Opportunity Count: 1; Billing Country: ; Account Name: Kittycorn LLC; Account ID: 0018a000022jPn9AAE\" role=\"graphics-symbol\" aria-roledescription=\"bar\" d=\"M453.75,399.88571428571424h67.5v0.11428571428575651h-67.5Z\" fill=\"#4c78a8\"/><path aria-label=\"AccountName: Account for Laptop; Opportunity Count: 1; Billing Country: ; Account Name: Account for Laptop; Account ID: 0018a0000260eJzAAI\" role=\"graphics-symbol\" aria-roledescription=\"bar\" d=\"M528.75,399.88571428571424h67.5v0.11428571428575651h-67.5Z\" fill=\"#4c78a8\"/><path aria-label=\"AccountName: Pyramid Construction Inc.; Opportunity Count: 2576; Billing Country: France; Account Name: Pyramid Construction Inc.; Account ID: 0018a00001uyzi2AAA\" role=\"graphics-symbol\" aria-roledescription=\"bar\" d=\"M153.75,105.60000000000001h67.5v294.4h-67.5Z\" fill=\"#f58518\"/><path aria-label=\"AccountName: Edge Communications; Opportunity Count: 3424; Billing Country: USA; Account Name: Edge Communications; Account ID: 0018a00001uyzi0AAA\" role=\"graphics-symbol\" aria-roledescription=\"bar\" d=\"M3.75,8.685714285714274h67.5v391.31428571428575h-67.5Z\" fill=\"#e45756\"/><path aria-label=\"AccountName: GenePoint; Opportunity Count: 3081; Billing Country: USA; Account Name: GenePoint; Account ID: 0018a00001uyzhxAAA\" role=\"graphics-symbol\" aria-roledescription=\"bar\" d=\"M78.75,47.885714285714265h67.5v352.11428571428576h-67.5Z\" fill=\"#e45756\"/><path aria-label=\"AccountName: Burlington Textiles Corp of America; Opportunity Count: 2348; Billing Country: USA; Account Name: Burlington Textiles Corp of America; Account ID: 0018a00001uyzi1AAA\" role=\"graphics-symbol\" aria-roledescription=\"bar\" d=\"M228.75,131.65714285714287h67.5v268.34285714285716h-67.5Z\" fill=\"#e45756\"/><path aria-label=\"AccountName: sForce; Opportunity Count: 2326; Billing Country: USA; Account Name: sForce; Account ID: 0018a00001uyzhwAAA\" role=\"graphics-symbol\" aria-roledescription=\"bar\" d=\"M303.75,134.17142857142858h67.5v265.8285714285714h-67.5Z\" fill=\"#e45756\"/><path aria-label=\"AccountName: University of Arizona; Opportunity Count: 2323; Billing Country: USA; Account Name: University of Arizona; Account ID: 0018a00001uyzhuAAA\" role=\"graphics-symbol\" aria-roledescription=\"bar\" d=\"M378.75,134.51428571428573h67.5v265.48571428571427h-67.5Z\" fill=\"#e45756\"/></g><g class=\"mark-group role-legend\" role=\"graphics-symbol\" aria-roledescription=\"legend\" aria-label=\"Symbol legend titled 'Billing Country' for fill color with 3 values: , France, USA\"><g transform=\"translate(618,0)\"><path class=\"background\" aria-hidden=\"true\" d=\"M0,0h79v53h-79Z\" pointer-events=\"none\"/><g><g class=\"mark-group role-legend-entry\"><g transform=\"translate(0,16)\"><path class=\"background\" aria-hidden=\"true\" d=\"M0,0h0v0h0Z\" pointer-events=\"none\"/><g><g class=\"mark-group role-scope\" role=\"graphics-object\" aria-roledescription=\"group mark container\"><g transform=\"translate(0,0)\"><path class=\"background\" aria-hidden=\"true\" d=\"M0,0h47.123046875v11h-47.123046875Z\" pointer-events=\"none\" opacity=\"1\"/><g><g class=\"mark-symbol role-legend-symbol\" pointer-events=\"none\"><path transform=\"translate(6,6)\" d=\"M-5,-5h10v10h-10Z\" fill=\"#4c78a8\" stroke-width=\"1.5\" opacity=\"1\"/></g><g class=\"mark-text role-legend-label\" pointer-events=\"none\"><text text-anchor=\"start\" transform=\"translate(16,9)\" font-family=\"sans-serif\" font-size=\"10px\" fill=\"#000\" opacity=\"1\"/></g></g><path class=\"foreground\" aria-hidden=\"true\" d=\"\" pointer-events=\"none\" display=\"none\"/></g><g transform=\"translate(0,13)\"><path class=\"background\" aria-hidden=\"true\" d=\"M0,0h47.123046875v11h-47.123046875Z\" pointer-events=\"none\" opacity=\"1\"/><g><g class=\"mark-symbol role-legend-symbol\" pointer-events=\"none\"><path transform=\"translate(6,6)\" d=\"M-5,-5h10v10h-10Z\" fill=\"#f58518\" stroke-width=\"1.5\" opacity=\"1\"/></g><g class=\"mark-text role-legend-label\" pointer-events=\"none\"><text text-anchor=\"start\" transform=\"translate(16,9)\" font-family=\"sans-serif\" font-size=\"10px\" fill=\"#000\" opacity=\"1\">France</text></g></g><path class=\"foreground\" aria-hidden=\"true\" d=\"\" pointer-events=\"none\" display=\"none\"/></g><g transform=\"translate(0,26)\"><path class=\"background\" aria-hidden=\"true\" d=\"M0,0h47.123046875v11h-47.123046875Z\" pointer-events=\"none\" opacity=\"1\"/><g><g class=\"mark-symbol role-legend-symbol\" pointer-events=\"none\"><path transform=\"translate(6,6)\" d=\"M-5,-5h10v10h-10Z\" fill=\"#e45756\" stroke-width=\"1.5\" opacity=\"1\"/></g><g class=\"mark-text role-legend-label\" pointer-events=\"none\"><text text-anchor=\"start\" transform=\"translate(16,9)\" font-family=\"sans-serif\" font-size=\"10px\" fill=\"#000\" opacity=\"1\">USA</text></g></g><path class=\"foreground\" aria-hidden=\"true\" d=\"\" pointer-events=\"none\" display=\"none\"/></g></g></g><path class=\"foreground\" aria-hidden=\"true\" d=\"\" pointer-events=\"none\" display=\"none\"/></g></g><g class=\"mark-text role-legend-title\" pointer-events=\"none\"><text text-anchor=\"start\" transform=\"translate(0,9)\" font-family=\"sans-serif\" font-size=\"11px\" font-weight=\"bold\" fill=\"#000\" opacity=\"1\">Billing Country</text></g></g><path class=\"foreground\" aria-hidden=\"true\" d=\"\" pointer-events=\"none\" display=\"none\"/></g></g><g class=\"mark-group role-title\"><g transform=\"translate(300,-22)\"><path class=\"background\" aria-hidden=\"true\" d=\"M0,0h0v0h0Z\" pointer-events=\"none\"/><g><g class=\"mark-text role-title-text\" role=\"graphics-symbol\" aria-roledescription=\"title\" aria-label=\"Title text 'Top 5 Accounts by Opportunity Count in Each Billing Country'\" pointer-events=\"none\"><text text-anchor=\"middle\" transform=\"translate(0,10)\" font-family=\"sans-serif\" font-size=\"13px\" font-weight=\"bold\" fill=\"#000\" opacity=\"1\">Top 5 Accounts by Opportunity Count in Each Billing Country</text></g></g><path class=\"foreground\" aria-hidden=\"true\" d=\"\" pointer-events=\"none\" display=\"none\"/></g></g></g><path class=\"foreground\" aria-hidden=\"true\" d=\"\" display=\"none\"/></g></g></g></svg>"
            ],
            "text/plain": [
              "<IPython.core.display.SVG object>"
            ]
          },
          "execution_count": 81,
          "metadata": {},
          "output_type": "execute_result"
        }
      ],
      "source": [
        "import altair as alt\n",
        "import json\n",
        "\n",
        "chart_prompt = f\"\"\"\n",
        "You have SQL code:\n",
        "```sql\n",
        "{query}\n",
        "```\n",
        "\n",
        "And you have data (up to first 100 rows):\n",
        "```\n",
        "{results_df.head(100)}\n",
        "```\n",
        "\n",
        "Generate a chart code in Vega Lite 4 format.\n",
        "* For dimensions, prefer names of entities over their ids.\n",
        "For example, if there is a CustomerId column and CustomerName column in the data, choose CustomerName as a chart dimension. So, pay attention to \"name\" columns.\n",
        "\n",
        "RULES:\n",
        "* Only one chart is allowed.\n",
        "* Your data model is BigQuery query you already have.\n",
        "* Make sure to come up with a good title for the chart.\n",
        "* Make sure the chart will look good in a dashboard. Apply reasonable filters to make it look good.\n",
        "* Make sure the legend truly represents the chart. Pay additional attention to units of the legend.\n",
        "* Use entity names over their identifiers in the chart - it will be seen by a human.\n",
        "* Visualize values that are the best to answer the prompt.\n",
        "* Keep it simple, but good looking.\n",
        "\n",
        "Do not make the chart too small.\n",
        "DO NOT MAKE UP FUNCTIONS OR PROPERTIES THAN DON'T EXIST IN Vega Lite 4 schema!\n",
        "Chart must be the best way to answer the question directly or provide data to do so.\n",
        "\n",
        "Just the remember, the original question was:\n",
        "```\n",
        "{QUESTION}\n",
        "```\n",
        "\n",
        "The rephrased version of it:\n",
        "```\n",
        "{rephrased_question}\n",
        "```\n",
        "\"\"\"\n",
        "\n",
        "chart_json = model.generate_content(chart_prompt).text\n",
        "\n",
        "if \"```vega-lite\" in chart_json:\n",
        "  vega = chart_json.split(\"```vega-lite\", 1)[-1].rsplit(\"```\", 1)[0]\n",
        "elif \"```vega\" in chart_json:\n",
        "  vega = chart_json.split(\"```vega\", 1)[-1].rsplit(\"```\", 1)[0]\n",
        "elif \"```json\" in chart_json:\n",
        "  vega = chart_json.split(\"```json\", 1)[-1].rsplit(\"```\", 1)[0]\n",
        "else:\n",
        "  vega = chart_json\n",
        "\n",
        "vega_dict = json.loads(vega)\n",
        "rows_dicts = results_df.to_dict(\"records\")\n",
        "vega_dict[\"data\"] = {\n",
        "    \"values\": rows_dicts\n",
        "}\n",
        "\n",
        "vega_chart = alt.Chart.from_dict(vega_dict)\n",
        "vega_chart.display()\n"
      ]
    }
  ],
  "metadata": {
    "colab": {
      "provenance": []
    },
    "kernelspec": {
      "display_name": "Python 3",
      "name": "python3"
    },
    "language_info": {
      "codemirror_mode": {
        "name": "ipython",
        "version": 3
      },
      "file_extension": ".py",
      "mimetype": "text/x-python",
      "name": "python",
      "nbconvert_exporter": "python",
      "pygments_lexer": "ipython3",
      "version": "3.11.0"
    }
  },
  "nbformat": 4,
  "nbformat_minor": 0
}